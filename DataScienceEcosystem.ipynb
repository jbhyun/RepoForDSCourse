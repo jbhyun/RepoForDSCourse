{
 "cells": [
  {
   "cell_type": "markdown",
   "id": "b641632c-d357-4788-afe4-5675e06716d6",
   "metadata": {},
   "source": [
    "# Data Science Tools and Ecosystem"
   ]
  },
  {
   "cell_type": "markdown",
   "id": "b64120d5-3da7-42ce-87dd-5e7c1db2e474",
   "metadata": {},
   "source": [
    "In this notebook, Data Science Tools and Ecosystem are summarized."
   ]
  },
  {
   "cell_type": "markdown",
   "id": "88d14598-1c0e-403d-8546-45301a7bd1a8",
   "metadata": {},
   "source": [
    "Objectives: \n",
    "* list popular programming languages for the data science\n",
    "* list popular libraries in the data science\n",
    "* list popular open source tools for development environment in data science"
   ]
  },
  {
   "cell_type": "markdown",
   "id": "b307b3b1-efb7-4a18-878a-86f6d8d7a35b",
   "metadata": {},
   "source": [
    "Some of the popular languages that Data Scientists use are"
   ]
  },
  {
   "cell_type": "markdown",
   "id": "2837ca76-865a-4eac-94e5-8ef3da659e3b",
   "metadata": {},
   "source": [
    "1. Python\n",
    "2. R\n",
    "3. SQL"
   ]
  },
  {
   "cell_type": "markdown",
   "id": "7e8a544e-f1e4-41bc-8fe4-2a2f88d6d4d8",
   "metadata": {},
   "source": [
    "Some of the commonly used libraries used by Data Scientists include:"
   ]
  },
  {
   "cell_type": "markdown",
   "id": "a64ffd71-1ac6-4ed5-a8ad-b26d942373b0",
   "metadata": {},
   "source": [
    "1. Pandas (Python)\n",
    "2. NumPy (Python)\n",
    "3. Matplotlib (Python)"
   ]
  },
  {
   "cell_type": "markdown",
   "id": "720fdddf-0cea-4228-bf7a-f64dd2522e62",
   "metadata": {},
   "source": [
    "| Data Science Tools |\n",
    "|--------------------|\n",
    "|Jupyter (Notebook or Lab)|\n",
    "|RStudio|\n",
    "|Spyder|"
   ]
  },
  {
   "cell_type": "markdown",
   "id": "89424573-9d2c-4837-9e41-2e092bc84533",
   "metadata": {},
   "source": [
    "### Below are a few examples of evaluating arithmetic expressions in Python"
   ]
  },
  {
   "cell_type": "code",
   "execution_count": 5,
   "id": "33840440-c11b-4056-a41d-8b40746517c4",
   "metadata": {},
   "outputs": [
    {
     "data": {
      "text/plain": [
       "17"
      ]
     },
     "execution_count": 5,
     "metadata": {},
     "output_type": "execute_result"
    }
   ],
   "source": [
    "#This a simple arithmetic expression to mutiply then add integers\n",
    "(3*4)+5"
   ]
  },
  {
   "cell_type": "code",
   "execution_count": 8,
   "id": "281568c1-acf7-4063-a37e-3899b4c1969c",
   "metadata": {},
   "outputs": [
    {
     "data": {
      "text/plain": [
       "3.3333333333333335"
      ]
     },
     "execution_count": 8,
     "metadata": {},
     "output_type": "execute_result"
    }
   ],
   "source": [
    "#This will convert 200 minutes to hours by diving by 60\n",
    "200/60"
   ]
  },
  {
   "cell_type": "markdown",
   "id": "b0664699-5a2b-43a5-b408-1ae11ae404a5",
   "metadata": {},
   "source": [
    "## Author"
   ]
  },
  {
   "cell_type": "markdown",
   "id": "51d20d11-6e15-4ce2-b7b8-179d03e65a20",
   "metadata": {},
   "source": [
    "Jihwan Bhyun"
   ]
  }
 ],
 "metadata": {
  "kernelspec": {
   "display_name": "Python 3 (ipykernel)",
   "language": "python",
   "name": "python3"
  },
  "language_info": {
   "codemirror_mode": {
    "name": "ipython",
    "version": 3
   },
   "file_extension": ".py",
   "mimetype": "text/x-python",
   "name": "python",
   "nbconvert_exporter": "python",
   "pygments_lexer": "ipython3",
   "version": "3.11.8"
  }
 },
 "nbformat": 4,
 "nbformat_minor": 5
}
