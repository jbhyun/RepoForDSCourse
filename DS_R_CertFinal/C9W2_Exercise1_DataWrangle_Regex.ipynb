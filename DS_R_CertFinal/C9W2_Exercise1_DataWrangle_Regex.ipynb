{
 "cells": [
  {
   "cell_type": "markdown",
   "metadata": {},
   "source": [
    "<center>\n",
    "<img src=\"https://cf-courses-data.s3.us.cloud-object-storage.appdomain.cloud/IBMDeveloperSkillsNetwork-RP0321EN-SkillsNetwork/labs/module_1/images/SN_web_lightmode.png\" width=\"300\"> \n",
    "</center>\n"
   ]
  },
  {
   "cell_type": "markdown",
   "metadata": {},
   "source": [
    "<h1>Data Wrangling with Regular Expressions</h1>\n",
    "\n",
    "Estimated time needed: **40** minutes\n"
   ]
  },
  {
   "cell_type": "markdown",
   "metadata": {},
   "source": [
    "## Lab Overview:\n",
    "\n",
    "In the previous data collection labs, you collected some raw datasets from several different sources. In this lab, you need to perform data wrangling tasks in order to improve data quality.\n"
   ]
  },
  {
   "cell_type": "markdown",
   "metadata": {},
   "source": [
    "You will again use regular expressions, along with the `stringr` package (part of `tidyverse`), to clean up the bike-sharing systems data that you previously web scraped from the wiki page: \n",
    "\n",
    "https://en.wikipedia.org/wiki/List_of_bicycle-sharing_systems\n",
    "\n",
    "<a href=\"https://cognitiveclass.ai/\">\n",
    "    <img src=\"https://cf-courses-data.s3.us.cloud-object-storage.appdomain.cloud/IBMDeveloperSkillsNetwork-RP0321EN-SkillsNetwork/labs/module_1/images/l2-list-bike-sharing-systems.png\" width=\"800\" align=\"center\">\n",
    "</a>\n"
   ]
  },
  {
   "cell_type": "markdown",
   "metadata": {},
   "source": [
    "One typical challenge of web scraping is that data extracted from HTML pages may contain unnecessary or inconsistently fomatted information.  \n",
    "For example:\n",
    " - Textual annotations in numeric fields: `1000 (Updated with 1050)`\n",
    " - Attached reference links: `Bike sharing system [123]`\n",
    " - Inconsistent data formats: `Yes` and `Y` for the logical value `TRUE` or `2021-04-09` and `Apr 09, 2021` for the same date\n",
    " - HTML style tags: `<span style=\"color:blue\">Bike sharing system</span>`\n",
    " - Special characters: `&nbsp` for a white space\n",
    " \n",
    "Many more such examples of noise may be encountered in real-world scraped data and most of such text related noises could be handled by regular expressions.\n"
   ]
  },
  {
   "cell_type": "markdown",
   "metadata": {},
   "source": [
    "To summarize, you will be using `stringr` (part of `tidyverse`) and regular expressions to perform the following data wrangling tasks:\n",
    "  - TASK: Standardize column names for all collected datasets\n",
    "  - TASK: Remove undesired reference links from the scraped bike-sharing systems dataset\n",
    "  - TASK: Extract only the numeric value from undesired text annotations\n"
   ]
  },
  {
   "cell_type": "markdown",
   "metadata": {},
   "source": [
    "Let's begin by importing the libraries you will use for these data wrangling tasks. \n",
    "\n",
    "Please note that the require(\"tidyverse\")\" command is commented here as the tidyverse package is already pre-installed in this lab environment. However, if you are executing this lab local R-Studio on your system then install this package first and then load the package.\n"
   ]
  },
  {
   "cell_type": "code",
   "execution_count": 1,
   "metadata": {},
   "outputs": [
    {
     "name": "stderr",
     "output_type": "stream",
     "text": [
      "Registered S3 methods overwritten by 'ggplot2':\n",
      "  method         from \n",
      "  [.quosures     rlang\n",
      "  c.quosures     rlang\n",
      "  print.quosures rlang\n",
      "Registered S3 method overwritten by 'rvest':\n",
      "  method            from\n",
      "  read_xml.response xml2\n",
      "-- Attaching packages --------------------------------------- tidyverse 1.2.1 --\n",
      "√ ggplot2 3.1.1       √ purrr   0.3.2  \n",
      "√ tibble  2.1.1       √ dplyr   0.8.0.1\n",
      "√ tidyr   0.8.3       √ stringr 1.4.0  \n",
      "√ readr   1.3.1       √ forcats 0.4.0  \n",
      "-- Conflicts ------------------------------------------ tidyverse_conflicts() --\n",
      "x dplyr::filter() masks stats::filter()\n",
      "x dplyr::lag()    masks stats::lag()\n"
     ]
    }
   ],
   "source": [
    "# Check whether you need to install the `tidyverse` library\n",
    "# require(\"tidyverse\")\n",
    "library(tidyverse)"
   ]
  },
  {
   "cell_type": "markdown",
   "metadata": {},
   "source": [
    "## TASK: Standardize column names for all collected datasets \n"
   ]
  },
  {
   "cell_type": "markdown",
   "metadata": {},
   "source": [
    "In the previous data collection labs, you collected four datasets in csv format:\n",
    "- `raw_bike_sharing_systems.csv`:  A list of active bike-sharing systems across the world\n",
    "- `raw_cities_weather_forecast.csv`: 5-day weather forecasts for a list of cities, from OpenWeather API\n",
    "- `raw_worldcities.csv`: A list of major cities' info (such as name, latitude and longitude) across the world\n",
    "- `raw_seoul_bike_sharing.csv`: Weather information (Temperature, Humidity, Windspeed, Visibility, Dewpoint, Solar radiation, Snowfall, Rainfall), the number of bikes rented per hour, and date information, from Seoul bike-sharing systems\n"
   ]
  },
  {
   "cell_type": "markdown",
   "metadata": {},
   "source": [
    "*Optional:* If you had some difficulties finishing the data collection labs, you may download the datasets directly from the following URLs:\n"
   ]
  },
  {
   "cell_type": "code",
   "execution_count": 2,
   "metadata": {},
   "outputs": [],
   "source": [
    "# Download raw_bike_sharing_systems.csv\n",
    "url <- \"https://cf-courses-data.s3.us.cloud-object-storage.appdomain.cloud/IBMDeveloperSkillsNetwork-RP0321EN-SkillsNetwork/labs/datasets/raw_bike_sharing_systems.csv\"\n",
    "download.file(url, destfile = \"raw_bike_sharing_systems.csv\")\n",
    "\n",
    "# Download raw_cities_weather_forecast.csv\n",
    "url <- \"https://cf-courses-data.s3.us.cloud-object-storage.appdomain.cloud/IBMDeveloperSkillsNetwork-RP0321EN-SkillsNetwork/labs/datasets/raw_cities_weather_forecast.csv\"\n",
    "download.file(url, destfile = \"raw_cities_weather_forecast.csv\")\n",
    "\n",
    "# Download raw_worldcities.csv\n",
    "url <- \"https://cf-courses-data.s3.us.cloud-object-storage.appdomain.cloud/IBMDeveloperSkillsNetwork-RP0321EN-SkillsNetwork/labs/datasets/raw_worldcities.csv\"\n",
    "download.file(url, destfile = \"raw_worldcities.csv\")\n",
    "\n",
    "# Download raw_seoul_bike_sharing.csv\n",
    "url <- \"https://cf-courses-data.s3.us.cloud-object-storage.appdomain.cloud/IBMDeveloperSkillsNetwork-RP0321EN-SkillsNetwork/labs/datasets/raw_seoul_bike_sharing.csv\"\n",
    "download.file(url, destfile = \"raw_seoul_bike_sharing.csv\")"
   ]
  },
  {
   "cell_type": "markdown",
   "metadata": {},
   "source": [
    "To improve dataset readbility by both human and computer systems, we first need to standardize the column names of the datasets above using the following naming convention:\n",
    " - Column names need to be UPPERCASE\n",
    " - The word separator needs to be an underscore, such as in `COLUMN_NAME`\n"
   ]
  },
  {
   "cell_type": "markdown",
   "metadata": {},
   "source": [
    "You can use the following dataset list and the `names()` function to get and set each of their column names, and convert them according to our defined naming convention.\n"
   ]
  },
  {
   "cell_type": "code",
   "execution_count": 3,
   "metadata": {},
   "outputs": [],
   "source": [
    "dataset_list <- c('raw_bike_sharing_systems.csv', 'raw_seoul_bike_sharing.csv', 'raw_cities_weather_forecast.csv', 'raw_worldcities.csv')"
   ]
  },
  {
   "cell_type": "markdown",
   "metadata": {},
   "source": [
    "_TODO_: Write a `for` loop to iterate over the above datasets and convert their column names \n"
   ]
  },
  {
   "cell_type": "code",
   "execution_count": 4,
   "metadata": {},
   "outputs": [
    {
     "name": "stderr",
     "output_type": "stream",
     "text": [
      "Warning message:\n",
      "\"Must use a character vector as names.\n",
      "This warning is displayed once per session.\""
     ]
    }
   ],
   "source": [
    "for (dataset_name in dataset_list){\n",
    "    # Read dataset\n",
    "    dataset <- read_csv(dataset_name, col_types=cols())\n",
    "    # Standardized its columns:\n",
    "    # Convert all column names to uppercase\n",
    "    names(dataset) <- map(names(dataset),toupper)\n",
    "    \n",
    "    # Replace any white space separators by underscores, using the str_replace_all function    \n",
    "    for( idx in c( 1:length(names(dataset)) ) ){\n",
    "        name <- names(dataset)[[idx]]\n",
    "        name <- gsub('(^ | $)','',name)\n",
    "        name <- gsub(' ','_',name)\n",
    "        names(dataset)[idx] <- name\n",
    "    }\n",
    "    \n",
    "    # Save the dataset \n",
    "    write.csv(dataset, dataset_name, row.names=FALSE)\n",
    "}\n"
   ]
  },
  {
   "cell_type": "markdown",
   "metadata": {},
   "source": [
    "_TODO_: Read the resulting datasets back and check whether their column names follow the naming convention\n"
   ]
  },
  {
   "cell_type": "code",
   "execution_count": 5,
   "metadata": {},
   "outputs": [
    {
     "name": "stdout",
     "output_type": "stream",
     "text": [
      "Classes 'spec_tbl_df', 'tbl_df', 'tbl' and 'data.frame':\t480 obs. of  10 variables:\n",
      " $ COUNTRY        : chr  \"Albania\" \"Argentina\" \"Argentina\" \"Argentina\" ...\n",
      " $ CITY           : chr  \"Tirana\" \"Mendoza\" \"San Lorenzo, Santa Fe\" \"Buenos Aires\" ...\n",
      " $ NAME           : chr  \"Ecovolis\" \"Metrobici\" \"Biciudad\" \"Ecobici\" ...\n",
      " $ SYSTEM         : chr  NA NA \"Biciudad\" \"Serttel Brasil\" ...\n",
      " $ OPERATOR       : chr  NA NA NA \"Bike In Baires Consortium.[10]\" ...\n",
      " $ LAUNCHED       : chr  \"March 2011\" \"2014\" \"27 November 2016\" \"2010\" ...\n",
      " $ DISCONTINUED   : chr  NA NA NA NA ...\n",
      " $ STATIONS       : chr  \"8\" \"2\" \"8\" \"400\" ...\n",
      " $ BICYCLES       : chr  \"200\" \"40\" \"80\" \"4000\" ...\n",
      " $ DAILY_RIDERSHIP: chr  NA NA NA \"21917\" ...\n",
      " - attr(*, \"spec\")=\n",
      "  .. cols(\n",
      "  ..   COUNTRY = col_character(),\n",
      "  ..   CITY = col_character(),\n",
      "  ..   NAME = col_character(),\n",
      "  ..   SYSTEM = col_character(),\n",
      "  ..   OPERATOR = col_character(),\n",
      "  ..   LAUNCHED = col_character(),\n",
      "  ..   DISCONTINUED = col_character(),\n",
      "  ..   STATIONS = col_character(),\n",
      "  ..   BICYCLES = col_character(),\n",
      "  ..   DAILY_RIDERSHIP = col_character()\n",
      "  .. )\n",
      "Classes 'spec_tbl_df', 'tbl_df', 'tbl' and 'data.frame':\t8760 obs. of  14 variables:\n",
      " $ DATE                 : chr  \"01/12/2017\" \"01/12/2017\" \"01/12/2017\" \"01/12/2017\" ...\n",
      " $ RENTED_BIKE_COUNT    : num  254 204 173 107 78 100 181 460 930 490 ...\n",
      " $ HOUR                 : num  0 1 2 3 4 5 6 7 8 9 ...\n",
      " $ TEMPERATURE          : num  -5.2 -5.5 -6 -6.2 -6 -6.4 -6.6 -7.4 -7.6 -6.5 ...\n",
      " $ HUMIDITY             : num  37 38 39 40 36 37 35 38 37 27 ...\n",
      " $ WIND_SPEED           : num  2.2 0.8 1 0.9 2.3 1.5 1.3 0.9 1.1 0.5 ...\n",
      " $ VISIBILITY           : num  2000 2000 2000 2000 2000 ...\n",
      " $ DEW_POINT_TEMPERATURE: num  -17.6 -17.6 -17.7 -17.6 -18.6 -18.7 -19.5 -19.3 -19.8 -22.4 ...\n",
      " $ SOLAR_RADIATION      : num  0 0 0 0 0 0 0 0 0.01 0.23 ...\n",
      " $ RAINFALL             : num  0 0 0 0 0 0 0 0 0 0 ...\n",
      " $ SNOWFALL             : num  0 0 0 0 0 0 0 0 0 0 ...\n",
      " $ SEASONS              : chr  \"Winter\" \"Winter\" \"Winter\" \"Winter\" ...\n",
      " $ HOLIDAY              : chr  \"No Holiday\" \"No Holiday\" \"No Holiday\" \"No Holiday\" ...\n",
      " $ FUNCTIONING_DAY      : chr  \"Yes\" \"Yes\" \"Yes\" \"Yes\" ...\n",
      " - attr(*, \"spec\")=\n",
      "  .. cols(\n",
      "  ..   DATE = col_character(),\n",
      "  ..   RENTED_BIKE_COUNT = col_double(),\n",
      "  ..   HOUR = col_double(),\n",
      "  ..   TEMPERATURE = col_double(),\n",
      "  ..   HUMIDITY = col_double(),\n",
      "  ..   WIND_SPEED = col_double(),\n",
      "  ..   VISIBILITY = col_double(),\n",
      "  ..   DEW_POINT_TEMPERATURE = col_double(),\n",
      "  ..   SOLAR_RADIATION = col_double(),\n",
      "  ..   RAINFALL = col_double(),\n",
      "  ..   SNOWFALL = col_double(),\n",
      "  ..   SEASONS = col_character(),\n",
      "  ..   HOLIDAY = col_character(),\n",
      "  ..   FUNCTIONING_DAY = col_character()\n",
      "  .. )\n",
      "Classes 'spec_tbl_df', 'tbl_df', 'tbl' and 'data.frame':\t160 obs. of  12 variables:\n",
      " $ CITY             : chr  \"Seoul\" \"Seoul\" \"Seoul\" \"Seoul\" ...\n",
      " $ WEATHER          : chr  \"Clear\" \"Clear\" \"Clouds\" \"Clouds\" ...\n",
      " $ VISIBILITY       : num  10000 10000 10000 10000 10000 10000 10000 10000 10000 10000 ...\n",
      " $ TEMP             : num  12.32 11.48 9.99 7.87 10.09 ...\n",
      " $ TEMP_MIN         : num  10.91 9.81 8.82 7.87 10.09 ...\n",
      " $ TEMP_MAX         : num  12.32 11.48 9.99 7.87 10.09 ...\n",
      " $ PRESSURE         : num  1015 1016 1015 1014 1014 ...\n",
      " $ HUMIDITY         : num  50 48 46 46 37 48 44 57 51 62 ...\n",
      " $ WIND_SPEED       : num  2.18 1.25 0.94 0.83 1.96 3.24 5.65 5.63 4.91 4.49 ...\n",
      " $ WIND_DEG         : num  248 142 130 31 309 267 275 267 280 284 ...\n",
      " $ SEASON           : chr  \"Spring\" \"Spring\" \"Spring\" \"Spring\" ...\n",
      " $ FORECAST_DATETIME: POSIXct, format: \"2021-04-16 12:00:00\" \"2021-04-16 15:00:00\" ...\n",
      " - attr(*, \"spec\")=\n",
      "  .. cols(\n",
      "  ..   CITY = col_character(),\n",
      "  ..   WEATHER = col_character(),\n",
      "  ..   VISIBILITY = col_double(),\n",
      "  ..   TEMP = col_double(),\n",
      "  ..   TEMP_MIN = col_double(),\n",
      "  ..   TEMP_MAX = col_double(),\n",
      "  ..   PRESSURE = col_double(),\n",
      "  ..   HUMIDITY = col_double(),\n",
      "  ..   WIND_SPEED = col_double(),\n",
      "  ..   WIND_DEG = col_double(),\n",
      "  ..   SEASON = col_character(),\n",
      "  ..   FORECAST_DATETIME = col_datetime(format = \"\")\n",
      "  .. )\n",
      "Classes 'spec_tbl_df', 'tbl_df', 'tbl' and 'data.frame':\t26569 obs. of  11 variables:\n",
      " $ CITY      : chr  \"Tokyo\" \"Jakarta\" \"Delhi\" \"Mumbai\" ...\n",
      " $ CITY_ASCII: chr  \"Tokyo\" \"Jakarta\" \"Delhi\" \"Mumbai\" ...\n",
      " $ LAT       : num  35.69 -6.21 28.66 18.97 14.6 ...\n",
      " $ LNG       : num  139.7 106.8 77.2 72.8 121 ...\n",
      " $ COUNTRY   : chr  \"Japan\" \"Indonesia\" \"India\" \"India\" ...\n",
      " $ ISO2      : chr  \"JP\" \"ID\" \"IN\" \"IN\" ...\n",
      " $ ISO3      : chr  \"JPN\" \"IDN\" \"IND\" \"IND\" ...\n",
      " $ ADMIN_NAME: chr  \"T<U+014D>ky<U+014D>\" \"Jakarta\" \"Delhi\" \"Mah<U+0101>r<U+0101>shtra\" ...\n",
      " $ CAPITAL   : chr  \"primary\" \"primary\" \"admin\" \"admin\" ...\n",
      " $ POPULATION: num  37977000 34540000 29617000 23355000 23088000 ...\n",
      " $ ID        : num  1.39e+09 1.36e+09 1.36e+09 1.36e+09 1.61e+09 ...\n",
      " - attr(*, \"spec\")=\n",
      "  .. cols(\n",
      "  ..   CITY = col_character(),\n",
      "  ..   CITY_ASCII = col_character(),\n",
      "  ..   LAT = col_double(),\n",
      "  ..   LNG = col_double(),\n",
      "  ..   COUNTRY = col_character(),\n",
      "  ..   ISO2 = col_character(),\n",
      "  ..   ISO3 = col_character(),\n",
      "  ..   ADMIN_NAME = col_character(),\n",
      "  ..   CAPITAL = col_character(),\n",
      "  ..   POPULATION = col_double(),\n",
      "  ..   ID = col_double()\n",
      "  .. )\n"
     ]
    }
   ],
   "source": [
    "for (dataset_name in dataset_list){\n",
    "    # Print a summary for each data set to check whether the column names were correctly converted\n",
    "    df<-read_csv(dataset_name, col_types=cols())\n",
    "    str(df)\n",
    "}"
   ]
  },
  {
   "cell_type": "markdown",
   "metadata": {},
   "source": [
    "## Process the web-scraped bike sharing system dataset \n"
   ]
  },
  {
   "cell_type": "markdown",
   "metadata": {},
   "source": [
    "By now we have standardized all column names. Next, we will focus on cleaning up the values in the web-scraped bike sharing systems dataset.\n"
   ]
  },
  {
   "cell_type": "code",
   "execution_count": 6,
   "metadata": {},
   "outputs": [],
   "source": [
    "# First load the dataset\n",
    "bike_sharing_df <- read_csv(\"raw_bike_sharing_systems.csv\", col_types=cols())"
   ]
  },
  {
   "cell_type": "code",
   "execution_count": 7,
   "metadata": {},
   "outputs": [
    {
     "data": {
      "text/html": [
       "<table>\n",
       "<thead><tr><th scope=col>COUNTRY</th><th scope=col>CITY</th><th scope=col>NAME</th><th scope=col>SYSTEM</th><th scope=col>OPERATOR</th><th scope=col>LAUNCHED</th><th scope=col>DISCONTINUED</th><th scope=col>STATIONS</th><th scope=col>BICYCLES</th><th scope=col>DAILY_RIDERSHIP</th></tr></thead>\n",
       "<tbody>\n",
       "\t<tr><td>Albania                       </td><td>Tirana                        </td><td>Ecovolis                      </td><td>NA                            </td><td>NA                            </td><td>March 2011                    </td><td>NA                            </td><td>8                             </td><td>200                           </td><td>NA                            </td></tr>\n",
       "\t<tr><td>Argentina                     </td><td>Mendoza                       </td><td>Metrobici                     </td><td>NA                            </td><td>NA                            </td><td>2014                          </td><td>NA                            </td><td>2                             </td><td>40                            </td><td>NA                            </td></tr>\n",
       "\t<tr><td>Argentina                     </td><td>San Lorenzo, Santa Fe         </td><td>Biciudad                      </td><td>Biciudad                      </td><td>NA                            </td><td>27 November 2016              </td><td>NA                            </td><td>8                             </td><td>80                            </td><td>NA                            </td></tr>\n",
       "\t<tr><td>Argentina                     </td><td>Buenos Aires                  </td><td>Ecobici                       </td><td>Serttel Brasil                </td><td>Bike In Baires Consortium.[10]</td><td>2010                          </td><td>NA                            </td><td>400                           </td><td>4000                          </td><td>21917                         </td></tr>\n",
       "\t<tr><td>Argentina                     </td><td>Rosario                       </td><td>Mi Bici Tu Bici[11]           </td><td>NA                            </td><td>NA                            </td><td>2 December 2015               </td><td>NA                            </td><td>47                            </td><td>480                           </td><td>NA                            </td></tr>\n",
       "\t<tr><td>Australia                                                             </td><td><span style=white-space:pre-wrap>Melbourne[12]        </span>         </td><td>Melbourne Bike Share                                                  </td><td><span style=white-space:pre-wrap>PBSC &amp; 8D     </span>            </td><td><span style=white-space:pre-wrap>Motivate                      </span></td><td><span style=white-space:pre-wrap>June 2010       </span>              </td><td>30 November 2019[13]                                                  </td><td>53                                                                    </td><td>676                                                                   </td><td><span style=white-space:pre-wrap>NA   </span>                         </td></tr>\n",
       "</tbody>\n",
       "</table>\n"
      ],
      "text/latex": [
       "\\begin{tabular}{r|llllllllll}\n",
       " COUNTRY & CITY & NAME & SYSTEM & OPERATOR & LAUNCHED & DISCONTINUED & STATIONS & BICYCLES & DAILY\\_RIDERSHIP\\\\\n",
       "\\hline\n",
       "\t Albania                        & Tirana                         & Ecovolis                       & NA                             & NA                             & March 2011                     & NA                             & 8                              & 200                            & NA                            \\\\\n",
       "\t Argentina                      & Mendoza                        & Metrobici                      & NA                             & NA                             & 2014                           & NA                             & 2                              & 40                             & NA                            \\\\\n",
       "\t Argentina                      & San Lorenzo, Santa Fe          & Biciudad                       & Biciudad                       & NA                             & 27 November 2016               & NA                             & 8                              & 80                             & NA                            \\\\\n",
       "\t Argentina                          & Buenos Aires                       & Ecobici                            & Serttel Brasil                     & Bike In Baires Consortium.{[}10{]} & 2010                               & NA                                 & 400                                & 4000                               & 21917                             \\\\\n",
       "\t Argentina                      & Rosario                        & Mi Bici Tu Bici{[}11{]}        & NA                             & NA                             & 2 December 2015                & NA                             & 47                             & 480                            & NA                            \\\\\n",
       "\t Australia                      & Melbourne{[}12{]}              & Melbourne Bike Share           & PBSC \\& 8D                    & Motivate                       & June 2010                      & 30 November 2019{[}13{]}       & 53                             & 676                            & NA                            \\\\\n",
       "\\end{tabular}\n"
      ],
      "text/markdown": [
       "\n",
       "| COUNTRY | CITY | NAME | SYSTEM | OPERATOR | LAUNCHED | DISCONTINUED | STATIONS | BICYCLES | DAILY_RIDERSHIP |\n",
       "|---|---|---|---|---|---|---|---|---|---|\n",
       "| Albania                        | Tirana                         | Ecovolis                       | NA                             | NA                             | March 2011                     | NA                             | 8                              | 200                            | NA                             |\n",
       "| Argentina                      | Mendoza                        | Metrobici                      | NA                             | NA                             | 2014                           | NA                             | 2                              | 40                             | NA                             |\n",
       "| Argentina                      | San Lorenzo, Santa Fe          | Biciudad                       | Biciudad                       | NA                             | 27 November 2016               | NA                             | 8                              | 80                             | NA                             |\n",
       "| Argentina                      | Buenos Aires                   | Ecobici                        | Serttel Brasil                 | Bike In Baires Consortium.[10] | 2010                           | NA                             | 400                            | 4000                           | 21917                          |\n",
       "| Argentina                      | Rosario                        | Mi Bici Tu Bici[11]            | NA                             | NA                             | 2 December 2015                | NA                             | 47                             | 480                            | NA                             |\n",
       "| Australia                      | Melbourne[12]                  | Melbourne Bike Share           | PBSC & 8D                      | Motivate                       | June 2010                      | 30 November 2019[13]           | 53                             | 676                            | NA                             |\n",
       "\n"
      ],
      "text/plain": [
       "  COUNTRY   CITY                  NAME                 SYSTEM        \n",
       "1 Albania   Tirana                Ecovolis             NA            \n",
       "2 Argentina Mendoza               Metrobici            NA            \n",
       "3 Argentina San Lorenzo, Santa Fe Biciudad             Biciudad      \n",
       "4 Argentina Buenos Aires          Ecobici              Serttel Brasil\n",
       "5 Argentina Rosario               Mi Bici Tu Bici[11]  NA            \n",
       "6 Australia Melbourne[12]         Melbourne Bike Share PBSC & 8D     \n",
       "  OPERATOR                       LAUNCHED         DISCONTINUED         STATIONS\n",
       "1 NA                             March 2011       NA                   8       \n",
       "2 NA                             2014             NA                   2       \n",
       "3 NA                             27 November 2016 NA                   8       \n",
       "4 Bike In Baires Consortium.[10] 2010             NA                   400     \n",
       "5 NA                             2 December 2015  NA                   47      \n",
       "6 Motivate                       June 2010        30 November 2019[13] 53      \n",
       "  BICYCLES DAILY_RIDERSHIP\n",
       "1 200      NA             \n",
       "2 40       NA             \n",
       "3 80       NA             \n",
       "4 4000     21917          \n",
       "5 480      NA             \n",
       "6 676      NA             "
      ]
     },
     "metadata": {},
     "output_type": "display_data"
    }
   ],
   "source": [
    "# Print its head\n",
    "head(bike_sharing_df)"
   ]
  },
  {
   "cell_type": "markdown",
   "metadata": {},
   "source": [
    "Even from the first few rows, you can see there is plenty of undesireable embedded textual content, such as the reference link included in `Melbourne[12]`.\n"
   ]
  },
  {
   "cell_type": "markdown",
   "metadata": {},
   "source": [
    "In this project, let's only focus on processing the following revelant columns (feel free to process the other columns for more practice):\n",
    " - `COUNTRY`: Country name \n",
    " - `CITY`: City name\n",
    " - `SYSTEM`: Bike-sharing system name\n",
    " - `BICYCLES`: Total number of bikes in the system\n"
   ]
  },
  {
   "cell_type": "code",
   "execution_count": 8,
   "metadata": {},
   "outputs": [],
   "source": [
    "# Select the four columns\n",
    "sub_bike_sharing_df <- bike_sharing_df %>% select(COUNTRY, CITY, SYSTEM, BICYCLES)"
   ]
  },
  {
   "cell_type": "markdown",
   "metadata": {},
   "source": [
    "Let's see the types of the selected columns\n"
   ]
  },
  {
   "cell_type": "code",
   "execution_count": 9,
   "metadata": {},
   "outputs": [
    {
     "data": {
      "text/html": [
       "<table>\n",
       "<thead><tr><th scope=col>variable</th><th scope=col>class</th></tr></thead>\n",
       "<tbody>\n",
       "\t<tr><td>COUNTRY  </td><td>character</td></tr>\n",
       "\t<tr><td>CITY     </td><td>character</td></tr>\n",
       "\t<tr><td>SYSTEM   </td><td>character</td></tr>\n",
       "\t<tr><td>BICYCLES </td><td>character</td></tr>\n",
       "</tbody>\n",
       "</table>\n"
      ],
      "text/latex": [
       "\\begin{tabular}{r|ll}\n",
       " variable & class\\\\\n",
       "\\hline\n",
       "\t COUNTRY   & character\\\\\n",
       "\t CITY      & character\\\\\n",
       "\t SYSTEM    & character\\\\\n",
       "\t BICYCLES  & character\\\\\n",
       "\\end{tabular}\n"
      ],
      "text/markdown": [
       "\n",
       "| variable | class |\n",
       "|---|---|\n",
       "| COUNTRY   | character |\n",
       "| CITY      | character |\n",
       "| SYSTEM    | character |\n",
       "| BICYCLES  | character |\n",
       "\n"
      ],
      "text/plain": [
       "  variable class    \n",
       "1 COUNTRY  character\n",
       "2 CITY     character\n",
       "3 SYSTEM   character\n",
       "4 BICYCLES character"
      ]
     },
     "metadata": {},
     "output_type": "display_data"
    }
   ],
   "source": [
    "sub_bike_sharing_df %>% \n",
    "    summarize_all(class) %>%\n",
    "    gather(variable, class)"
   ]
  },
  {
   "cell_type": "markdown",
   "metadata": {},
   "source": [
    "They are all interpreted as character columns, but we expect the `BICYCLES` column to be of numeric type. Let's see why it wasn't loaded as a numeric column - possibly some entries contain characters. Let's create a simple function called `find_character` to check that.\n"
   ]
  },
  {
   "cell_type": "code",
   "execution_count": 10,
   "metadata": {},
   "outputs": [],
   "source": [
    "# grepl searches a string for non-digital characters, and returns TRUE or FALSE\n",
    "# if it finds any non-digital characters, then the bicyle column is not purely numeric\n",
    "find_character <- function(strings) grepl(\"[^0-9]\", strings)"
   ]
  },
  {
   "cell_type": "markdown",
   "metadata": {},
   "source": [
    "Let's try to find any elements in the `Bicycles` column containing non-numeric characters.\n"
   ]
  },
  {
   "cell_type": "code",
   "execution_count": 11,
   "metadata": {},
   "outputs": [
    {
     "data": {
      "text/html": [
       "<table>\n",
       "<thead><tr><th scope=col>BICYCLES</th></tr></thead>\n",
       "<tbody>\n",
       "\t<tr><td>4115[22]                  </td></tr>\n",
       "\t<tr><td>310[59]                   </td></tr>\n",
       "\t<tr><td>500[72]                   </td></tr>\n",
       "\t<tr><td>[75]                      </td></tr>\n",
       "\t<tr><td>180[76]                   </td></tr>\n",
       "\t<tr><td>600[77]                   </td></tr>\n",
       "\t<tr><td>[78]                      </td></tr>\n",
       "\t<tr><td>initially 800 (later 2500)</td></tr>\n",
       "\t<tr><td>100 (220)                 </td></tr>\n",
       "\t<tr><td>370[114]                  </td></tr>\n",
       "</tbody>\n",
       "</table>\n"
      ],
      "text/latex": [
       "\\begin{tabular}{r|l}\n",
       " BICYCLES\\\\\n",
       "\\hline\n",
       "\t 4115{[}22{]}                  \\\\\n",
       "\t 310{[}59{]}                   \\\\\n",
       "\t 500{[}72{]}                   \\\\\n",
       "\t {[}75{]}                      \\\\\n",
       "\t 180{[}76{]}                   \\\\\n",
       "\t 600{[}77{]}                   \\\\\n",
       "\t {[}78{]}                      \\\\\n",
       "\t initially 800 (later 2500)\\\\\n",
       "\t 100 (220)                 \\\\\n",
       "\t 370{[}114{]}                  \\\\\n",
       "\\end{tabular}\n"
      ],
      "text/markdown": [
       "\n",
       "| BICYCLES |\n",
       "|---|\n",
       "| 4115[22]                   |\n",
       "| 310[59]                    |\n",
       "| 500[72]                    |\n",
       "| [75]                       |\n",
       "| 180[76]                    |\n",
       "| 600[77]                    |\n",
       "| [78]                       |\n",
       "| initially 800 (later 2500) |\n",
       "| 100 (220)                  |\n",
       "| 370[114]                   |\n",
       "\n"
      ],
      "text/plain": [
       "   BICYCLES                  \n",
       "1  4115[22]                  \n",
       "2  310[59]                   \n",
       "3  500[72]                   \n",
       "4  [75]                      \n",
       "5  180[76]                   \n",
       "6  600[77]                   \n",
       "7  [78]                      \n",
       "8  initially 800 (later 2500)\n",
       "9  100 (220)                 \n",
       "10 370[114]                  "
      ]
     },
     "metadata": {},
     "output_type": "display_data"
    }
   ],
   "source": [
    "sub_bike_sharing_df %>% \n",
    "    select(BICYCLES) %>% \n",
    "    filter(find_character(BICYCLES)) %>%\n",
    "    slice(0:10)"
   ]
  },
  {
   "cell_type": "markdown",
   "metadata": {},
   "source": [
    "As you can see, many rows have non-numeric characters, such as `32 (including 6 rollers) [162]` and `1000[253]`. This is actually very common for a table scraped from Wiki when no input validation is enforced. \n",
    "\n",
    "Later, you will use regular expressions to clean them up.\n"
   ]
  },
  {
   "cell_type": "markdown",
   "metadata": {},
   "source": [
    "Next, let's take a look at the other columns, namely `COUNTRY`, `CITY`, and `SYSTEM`, to see if they contain any undesired reference links, such as in `Melbourne[12]`.\n"
   ]
  },
  {
   "cell_type": "code",
   "execution_count": 12,
   "metadata": {},
   "outputs": [],
   "source": [
    "# Define a 'reference link' character class, \n",
    "# `[A-z0-9]` means at least one character \n",
    "# `\\\\[` and `\\\\]` means the character is wrapped by [], such as for [12] or [abc]\n",
    "ref_pattern <- \"\\\\[[A-z0-9]+\\\\]\"\n",
    "find_reference_pattern <- function(strings) grepl(ref_pattern, strings)"
   ]
  },
  {
   "cell_type": "code",
   "execution_count": 13,
   "metadata": {},
   "outputs": [
    {
     "data": {
      "text/html": [
       "<table>\n",
       "<thead><tr><th scope=col>COUNTRY</th></tr></thead>\n",
       "<tbody>\n",
       "</tbody>\n",
       "</table>\n"
      ],
      "text/latex": [
       "\\begin{tabular}{r|l}\n",
       " COUNTRY\\\\\n",
       "\\hline\n",
       "\\end{tabular}\n"
      ],
      "text/markdown": [
       "\n",
       "| COUNTRY |\n",
       "|---|\n",
       "\n"
      ],
      "text/plain": [
       "     COUNTRY"
      ]
     },
     "metadata": {},
     "output_type": "display_data"
    }
   ],
   "source": [
    "# Check whether the COUNTRY column has any reference links\n",
    "sub_bike_sharing_df %>% \n",
    "    select(COUNTRY) %>% \n",
    "    filter(find_reference_pattern(COUNTRY)) %>%\n",
    "    slice(0:10)"
   ]
  },
  {
   "cell_type": "markdown",
   "metadata": {},
   "source": [
    "Ok, looks like the `COUNTRY` column is clean. Let's check the `CITY` column.\n"
   ]
  },
  {
   "cell_type": "code",
   "execution_count": 14,
   "metadata": {},
   "outputs": [
    {
     "data": {
      "text/html": [
       "<table>\n",
       "<thead><tr><th scope=col>CITY</th></tr></thead>\n",
       "<tbody>\n",
       "\t<tr><td>Melbourne[12]        </td></tr>\n",
       "\t<tr><td>Brisbane[14][15]     </td></tr>\n",
       "\t<tr><td>Lower Austria[18]    </td></tr>\n",
       "\t<tr><td>Namur[19]            </td></tr>\n",
       "\t<tr><td>Brussels[21]         </td></tr>\n",
       "\t<tr><td>Salvador[23]         </td></tr>\n",
       "\t<tr><td>Belo Horizonte[24]   </td></tr>\n",
       "\t<tr><td>Joao Pessoa[25]      </td></tr>\n",
       "\t<tr><td>(Pedro de) Toledo[26]</td></tr>\n",
       "\t<tr><td>Rio de Janeiro[27]   </td></tr>\n",
       "</tbody>\n",
       "</table>\n"
      ],
      "text/latex": [
       "\\begin{tabular}{r|l}\n",
       " CITY\\\\\n",
       "\\hline\n",
       "\t Melbourne{[}12{]}        \\\\\n",
       "\t Brisbane{[}14{]}{[}15{]}     \\\\\n",
       "\t Lower Austria{[}18{]}    \\\\\n",
       "\t Namur{[}19{]}            \\\\\n",
       "\t Brussels{[}21{]}         \\\\\n",
       "\t Salvador{[}23{]}         \\\\\n",
       "\t Belo Horizonte{[}24{]}   \\\\\n",
       "\t Joao Pessoa{[}25{]}      \\\\\n",
       "\t (Pedro de) Toledo{[}26{]}\\\\\n",
       "\t Rio de Janeiro{[}27{]}   \\\\\n",
       "\\end{tabular}\n"
      ],
      "text/markdown": [
       "\n",
       "| CITY |\n",
       "|---|\n",
       "| Melbourne[12]         |\n",
       "| Brisbane[14][15]      |\n",
       "| Lower Austria[18]     |\n",
       "| Namur[19]             |\n",
       "| Brussels[21]          |\n",
       "| Salvador[23]          |\n",
       "| Belo Horizonte[24]    |\n",
       "| Joao Pessoa[25]       |\n",
       "| (Pedro de) Toledo[26] |\n",
       "| Rio de Janeiro[27]    |\n",
       "\n"
      ],
      "text/plain": [
       "   CITY                 \n",
       "1  Melbourne[12]        \n",
       "2  Brisbane[14][15]     \n",
       "3  Lower Austria[18]    \n",
       "4  Namur[19]            \n",
       "5  Brussels[21]         \n",
       "6  Salvador[23]         \n",
       "7  Belo Horizonte[24]   \n",
       "8  Joao Pessoa[25]      \n",
       "9  (Pedro de) Toledo[26]\n",
       "10 Rio de Janeiro[27]   "
      ]
     },
     "metadata": {},
     "output_type": "display_data"
    }
   ],
   "source": [
    "# Check whether the CITY column has any reference links\n",
    "sub_bike_sharing_df %>% \n",
    "    select(CITY) %>% \n",
    "    filter(find_reference_pattern(CITY)) %>%\n",
    "    slice(0:10)"
   ]
  },
  {
   "cell_type": "markdown",
   "metadata": {},
   "source": [
    "Hmm, looks like the `CITY` column has some reference links to be removed. Next, let's check the `SYSTEM` column.\n"
   ]
  },
  {
   "cell_type": "code",
   "execution_count": 15,
   "metadata": {},
   "outputs": [
    {
     "data": {
      "text/html": [
       "<table>\n",
       "<thead><tr><th scope=col>SYSTEM</th></tr></thead>\n",
       "<tbody>\n",
       "\t<tr><td>EasyBike[58]                     </td></tr>\n",
       "\t<tr><td>4 Gen.[61]                       </td></tr>\n",
       "\t<tr><td>3 Gen. SmooveKey[113]            </td></tr>\n",
       "\t<tr><td>3 Gen. Smoove[141][142][143][139]</td></tr>\n",
       "\t<tr><td>3 Gen. Smoove[179]               </td></tr>\n",
       "\t<tr><td>3 Gen. Smoove[181]               </td></tr>\n",
       "\t<tr><td>3 Gen. Smoove[183]               </td></tr>\n",
       "</tbody>\n",
       "</table>\n"
      ],
      "text/latex": [
       "\\begin{tabular}{r|l}\n",
       " SYSTEM\\\\\n",
       "\\hline\n",
       "\t EasyBike{[}58{]}                     \\\\\n",
       "\t 4 Gen.{[}61{]}                       \\\\\n",
       "\t 3 Gen. SmooveKey{[}113{]}            \\\\\n",
       "\t 3 Gen. Smoove{[}141{]}{[}142{]}{[}143{]}{[}139{]}\\\\\n",
       "\t 3 Gen. Smoove{[}179{]}               \\\\\n",
       "\t 3 Gen. Smoove{[}181{]}               \\\\\n",
       "\t 3 Gen. Smoove{[}183{]}               \\\\\n",
       "\\end{tabular}\n"
      ],
      "text/markdown": [
       "\n",
       "| SYSTEM |\n",
       "|---|\n",
       "| EasyBike[58]                      |\n",
       "| 4 Gen.[61]                        |\n",
       "| 3 Gen. SmooveKey[113]             |\n",
       "| 3 Gen. Smoove[141][142][143][139] |\n",
       "| 3 Gen. Smoove[179]                |\n",
       "| 3 Gen. Smoove[181]                |\n",
       "| 3 Gen. Smoove[183]                |\n",
       "\n"
      ],
      "text/plain": [
       "  SYSTEM                           \n",
       "1 EasyBike[58]                     \n",
       "2 4 Gen.[61]                       \n",
       "3 3 Gen. SmooveKey[113]            \n",
       "4 3 Gen. Smoove[141][142][143][139]\n",
       "5 3 Gen. Smoove[179]               \n",
       "6 3 Gen. Smoove[181]               \n",
       "7 3 Gen. Smoove[183]               "
      ]
     },
     "metadata": {},
     "output_type": "display_data"
    }
   ],
   "source": [
    "# Check whether the System column has any reference links\n",
    "sub_bike_sharing_df %>% \n",
    "    select(SYSTEM) %>% \n",
    "    filter(find_reference_pattern(SYSTEM)) %>%\n",
    "    slice(0:10)"
   ]
  },
  {
   "cell_type": "markdown",
   "metadata": {},
   "source": [
    "So the `SYSTEM` column also has some reference links.\n"
   ]
  },
  {
   "cell_type": "markdown",
   "metadata": {},
   "source": [
    "After some preliminary investigations, we identified that the `CITY` and `SYSTEM` columns have some undesired reference links, and the `BICYCLES` column has both reference links and some \n",
    "textual annotations.\n",
    "\n",
    "Next, you need to use regular expressions to clean up the unexpected reference links and text annotations in numeric values.\n"
   ]
  },
  {
   "cell_type": "markdown",
   "metadata": {},
   "source": [
    "# TASK: Remove undesired reference links using regular expressions\n"
   ]
  },
  {
   "cell_type": "markdown",
   "metadata": {},
   "source": [
    "_TODO:_ Write a custom function using `stringr::str_replace_all` to replace all reference links with an empty character for columns `CITY` and `SYSTEM`\n"
   ]
  },
  {
   "cell_type": "code",
   "execution_count": 16,
   "metadata": {},
   "outputs": [],
   "source": [
    "# remove reference link\n",
    "remove_ref <- function(strings) {\n",
    "    ref_pattern <- \"\\\\[[\\\\w]+\\\\]\"\n",
    "    strings <- str_replace_all(strings, ref_pattern, '')\n",
    "    strings <- str_replace_all(strings, '(^ | $)', '')\n",
    "    return(strings)\n",
    "}"
   ]
  },
  {
   "cell_type": "markdown",
   "metadata": {},
   "source": [
    "_TODO:_ Use the `dplyr::mutate()` function to apply the `remove_ref` function to the `CITY` and `SYSTEM` columns\n"
   ]
  },
  {
   "cell_type": "code",
   "execution_count": 17,
   "metadata": {},
   "outputs": [],
   "source": [
    "sub_bike_sharing_df <- sub_bike_sharing_df %>% \n",
    "                        mutate(CITY=remove_ref(CITY), SYSTEM=remove_ref(SYSTEM), BICYCLES=remove_ref(BICYCLES))"
   ]
  },
  {
   "cell_type": "markdown",
   "metadata": {},
   "source": [
    "_TODO:_ Use the following code to check whether all reference links are removed:\n"
   ]
  },
  {
   "cell_type": "code",
   "execution_count": 18,
   "metadata": {},
   "outputs": [
    {
     "data": {
      "text/html": [
       "<table>\n",
       "<thead><tr><th scope=col>CITY</th><th scope=col>SYSTEM</th><th scope=col>BICYCLES</th></tr></thead>\n",
       "<tbody>\n",
       "</tbody>\n",
       "</table>\n"
      ],
      "text/latex": [
       "\\begin{tabular}{r|lll}\n",
       " CITY & SYSTEM & BICYCLES\\\\\n",
       "\\hline\n",
       "\\end{tabular}\n"
      ],
      "text/markdown": [
       "\n",
       "| CITY | SYSTEM | BICYCLES |\n",
       "|---|---|---|\n",
       "\n"
      ],
      "text/plain": [
       "     CITY SYSTEM BICYCLES"
      ]
     },
     "metadata": {},
     "output_type": "display_data"
    }
   ],
   "source": [
    "sub_bike_sharing_df %>% \n",
    "    select(CITY, SYSTEM, BICYCLES) %>% \n",
    "    filter(find_reference_pattern(CITY) | find_reference_pattern(SYSTEM) | find_reference_pattern(BICYCLES))"
   ]
  },
  {
   "cell_type": "markdown",
   "metadata": {},
   "source": [
    "# TASK: Extract the numeric value using regular expressions\n"
   ]
  },
  {
   "cell_type": "markdown",
   "metadata": {},
   "source": [
    "_TODO:_ Write a custom function using `stringr::str_extract` to extract the first digital substring match and convert it into numeric type For example, extract the value '32' from `32 (including 6 rollers) [162]`.\n"
   ]
  },
  {
   "cell_type": "code",
   "execution_count": 19,
   "metadata": {},
   "outputs": [],
   "source": [
    "# Extract the first number\n",
    "extract_num <- function(columns){\n",
    "    digitals_pattern <- \"^[\\\\d\\\\.]+\"\n",
    "    str_extract(columns, \"^[0-9]+\\\\.{0,1}[0-9]*\")\n",
    "    columns <- as.numeric(columns)\n",
    "    \n",
    "    return(columns)\n",
    "} "
   ]
  },
  {
   "cell_type": "markdown",
   "metadata": {},
   "source": [
    "_TODO:_ Use the `dplyr::mutate()` function to apply `extract_num` on the `BICYCLES` column\n"
   ]
  },
  {
   "cell_type": "code",
   "execution_count": 20,
   "metadata": {},
   "outputs": [
    {
     "name": "stderr",
     "output_type": "stream",
     "text": [
      "Warning message in extract_num(BICYCLES):\n",
      "\"강제형변환에 의해 생성된 NA 입니다\""
     ]
    }
   ],
   "source": [
    "# Use the mutate() function on the BICYCLES column\n",
    "sub_bike_sharing_df <- sub_bike_sharing_df %>% mutate(BICYCLES=extract_num(BICYCLES))"
   ]
  },
  {
   "cell_type": "markdown",
   "metadata": {},
   "source": [
    "_TODO:_ Use the summary function to check the descriptive statistics of the numeric `BICYCLES` column\n"
   ]
  },
  {
   "cell_type": "code",
   "execution_count": 21,
   "metadata": {},
   "outputs": [
    {
     "data": {
      "text/plain": [
       "   Min. 1st Qu.  Median    Mean 3rd Qu.    Max.    NA's \n",
       "      5     100     350    2032    1400   78000      83 "
      ]
     },
     "metadata": {},
     "output_type": "display_data"
    }
   ],
   "source": [
    "summary(sub_bike_sharing_df$BICYCLES)"
   ]
  },
  {
   "cell_type": "markdown",
   "metadata": {},
   "source": [
    "_TODO:_ Write the cleaned bike-sharing systems dataset into a csv file called `bike_sharing_systems.csv`\n"
   ]
  },
  {
   "cell_type": "code",
   "execution_count": 22,
   "metadata": {},
   "outputs": [],
   "source": [
    "# Write dataset to `bike_sharing_systems.csv`\n",
    "write.csv(sub_bike_sharing_df, file='bike_sharing_systems.csv', row.names=FALSE)"
   ]
  },
  {
   "cell_type": "markdown",
   "metadata": {},
   "source": [
    "# References:\n"
   ]
  },
  {
   "cell_type": "markdown",
   "metadata": {},
   "source": [
    "If you need to refresh your memory about regular expressions, please refer to this good Regular Expression cheat sheet:\n",
    "\n",
    "<a href=\"https://www.rstudio.com/wp-content/uploads/2016/09/RegExCheatsheet.pdf\" target=\"_blank\">Basic Regular Expressions in R</a>\n"
   ]
  },
  {
   "cell_type": "markdown",
   "metadata": {},
   "source": [
    "# Next Steps\n"
   ]
  },
  {
   "cell_type": "markdown",
   "metadata": {},
   "source": [
    "Great! Now you have cleaned up the bike-sharing system dataset using regular expressions. Next, you will use other `tidyverse` functions to perform data wrangling on the bike-sharing demand dataset.\n"
   ]
  },
  {
   "cell_type": "markdown",
   "metadata": {},
   "source": [
    "## Authors\n",
    "\n",
    "<a href=\"https://www.linkedin.com/in/yan-luo-96288783/\" target=\"_blank\">Yan Luo</a>\n"
   ]
  },
  {
   "cell_type": "markdown",
   "metadata": {},
   "source": [
    "### Other Contributors\n",
    "\n",
    "Jeff Grossman\n"
   ]
  },
  {
   "cell_type": "markdown",
   "metadata": {},
   "source": [
    "## Change Log\n",
    "\n",
    "| Date (YYYY-MM-DD) | Version | Changed By | Change Description           |\n",
    "| ----------------- | ------- | ---------- | ---------------------------- |\n",
    "| 2021-04-08        | 1.0     | Yan        | Initial version created      |\n",
    "|                   |         |            |                              |\n",
    "|                   |         |            |                              |\n",
    "\n",
    "## <h3 align=\"center\"> © IBM Corporation 2021. All rights reserved. <h3/>\n"
   ]
  }
 ],
 "metadata": {
  "kernelspec": {
   "display_name": "R",
   "language": "R",
   "name": "ir"
  },
  "language_info": {
   "codemirror_mode": "r",
   "file_extension": ".r",
   "mimetype": "text/x-r-source",
   "name": "R",
   "pygments_lexer": "r",
   "version": "3.6.1"
  }
 },
 "nbformat": 4,
 "nbformat_minor": 4
}
