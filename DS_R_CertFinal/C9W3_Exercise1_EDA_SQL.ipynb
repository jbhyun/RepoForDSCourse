{
 "cells": [
  {
   "cell_type": "markdown",
   "metadata": {},
   "source": [
    "<center>\n",
    "<img src=\"https://cf-courses-data.s3.us.cloud-object-storage.appdomain.cloud/IBMDeveloperSkillsNetwork-RP0321EN-SkillsNetwork/labs/module_1/images/SN_web_lightmode.png\" width=\"300\"> \n",
    "</center>\n",
    "\n",
    "# Assignment: Exploratory Data Analysis with SQL\n",
    "Estimated time needed: 60 minutes\n",
    "\n",
    "\n",
    "# Introduction\n",
    "Using this R notebook you will perform exploratory data analysis using SQL queries with the RSQLite R package. You will be graded on the accuracy of your results as well as the content of your SQL queries.\n"
   ]
  },
  {
   "cell_type": "markdown",
   "metadata": {},
   "source": [
    "### Establish your SQlIte connection\n",
    "Load the 'RSQLite' library, and use the 'dbConnect( )' function as you did in the previous lab to establish the connection to your SQLite database.  \n",
    "You are now ready to start running SQL queries using the RSQLite library as you did in Course 3.\n"
   ]
  },
  {
   "cell_type": "code",
   "execution_count": 1,
   "metadata": {},
   "outputs": [
    {
     "name": "stderr",
     "output_type": "stream",
     "text": [
      "Registered S3 methods overwritten by 'ggplot2':\n",
      "  method         from \n",
      "  [.quosures     rlang\n",
      "  c.quosures     rlang\n",
      "  print.quosures rlang\n",
      "Registered S3 method overwritten by 'rvest':\n",
      "  method            from\n",
      "  read_xml.response xml2\n",
      "-- Attaching packages --------------------------------------- tidyverse 1.2.1 --\n",
      "√ ggplot2 3.1.1       √ purrr   0.3.2  \n",
      "√ tibble  2.1.1       √ dplyr   0.8.0.1\n",
      "√ tidyr   0.8.3       √ stringr 1.4.0  \n",
      "√ readr   1.3.1       √ forcats 0.4.0  \n",
      "-- Conflicts ------------------------------------------ tidyverse_conflicts() --\n",
      "x dplyr::filter() masks stats::filter()\n",
      "x dplyr::lag()    masks stats::lag()\n"
     ]
    }
   ],
   "source": [
    "# provide your solution here\n",
    "library(RSQLite)\n",
    "library(tidyverse)\n",
    "conn <- dbConnect(RSQLite::SQLite(),\"Seoul_Bike.sqlite\")"
   ]
  },
  {
   "cell_type": "code",
   "execution_count": 2,
   "metadata": {},
   "outputs": [],
   "source": [
    "download.file('https://cf-courses-data.s3.us.cloud-object-storage.appdomain.cloud/IBMDeveloperSkillsNetwork-RP0321EN-SkillsNetwork/labs/datasets/world_cities.csv', \n",
    "              destfile='world_cities.csv')\n",
    "download.file('https://cf-courses-data.s3.us.cloud-object-storage.appdomain.cloud/IBMDeveloperSkillsNetwork-RP0321EN-SkillsNetwork/labs/datasets/bike_sharing_systems.csv',\n",
    "              destfile='bike_sharing_systems.csv')\n",
    "download.file('https://cf-courses-data.s3.us.cloud-object-storage.appdomain.cloud/IBMDeveloperSkillsNetwork-RP0321EN-SkillsNetwork/labs/datasets/cities_weather_forecast.csv',\n",
    "              destfile='cities_weather_forecast.csv')\n",
    "download.file('https://cf-courses-data.s3.us.cloud-object-storage.appdomain.cloud/IBMDeveloperSkillsNetwork-RP0321EN-SkillsNetwork/labs/datasets/seoul_bike_sharing.csv',\n",
    "              destfile='seoul_bike_sharing.csv')\n",
    "df_world <- read_csv('world_cities.csv', col_types=cols())\n",
    "df_bikesys <- read_csv('bike_sharing_systems.csv', col_types=cols())\n",
    "df_forecast <- read_csv('cities_weather_forecast.csv', col_types=cols())\n",
    "df_seoulbike <- read_csv('seoul_bike_sharing.csv', col_types=cols())\n",
    "dbWriteTable(conn, 'WORLD_CITIES', df_world, overwrite=TRUE)\n",
    "dbWriteTable(conn, 'BIKE_SHARING_SYSTEMS', df_bikesys, overwrite=TRUE)\n",
    "dbWriteTable(conn, 'CITIES_WEATHER_FORECAST', df_forecast, overwrite=TRUE)\n",
    "dbWriteTable(conn, 'SEOUL_BIKE_SHARING', df_seoulbike, overwrite=TRUE)"
   ]
  },
  {
   "cell_type": "markdown",
   "metadata": {},
   "source": [
    "Download the following csv files:\n",
    "\n",
    "*   [WORLD_CITIES](https://cf-courses-data.s3.us.cloud-object-storage.appdomain.cloud/IBMDeveloperSkillsNetwork-RP0321EN-SkillsNetwork/labs/datasets/world_cities.csv)\n",
    "\n",
    "*   [BIKE_SHARING_SYSTEMS](https://cf-courses-data.s3.us.cloud-object-storage.appdomain.cloud/IBMDeveloperSkillsNetwork-RP0321EN-SkillsNetwork/labs/datasets/bike_sharing_systems.csv)\n",
    "\n",
    "*   [CITIES_WEATHER_FORECAST](https://cf-courses-data.s3.us.cloud-object-storage.appdomain.cloud/IBMDeveloperSkillsNetwork-RP0321EN-SkillsNetwork/labs/datasets/cities_weather_forecast.csv)\n",
    "\n",
    "*   [SEOUL_BIKE_SHARING](https://cf-courses-data.s3.us.cloud-object-storage.appdomain.cloud/IBMDeveloperSkillsNetwork-RP0321EN-SkillsNetwork/labs/datasets/seoul_bike_sharing.csv)\n",
    "\n",
    "and load the csv's  into 4 tables as mentioned below\n",
    "* SEOUL_BIKE_SHARING\n",
    "\n",
    "* CITIES_WEATHER_FORECAST\n",
    "\n",
    "* BIKE_SHARING_SYSTEMS \n",
    "\n",
    "*  WORLD_CITIES\n",
    "\n",
    "> Hint : Use the read_csv() function and dbWriteTable() functions\n"
   ]
  },
  {
   "cell_type": "code",
   "execution_count": 3,
   "metadata": {},
   "outputs": [
    {
     "data": {
      "text/html": [
       "<ol class=list-inline>\n",
       "\t<li>'CITY'</li>\n",
       "\t<li>'CITY_ASCII'</li>\n",
       "\t<li>'LAT'</li>\n",
       "\t<li>'LNG'</li>\n",
       "\t<li>'COUNTRY'</li>\n",
       "\t<li>'ISO2'</li>\n",
       "\t<li>'ISO3'</li>\n",
       "\t<li>'ADMIN_NAME'</li>\n",
       "\t<li>'CAPITAL'</li>\n",
       "\t<li>'POPULATION'</li>\n",
       "\t<li>'ID'</li>\n",
       "</ol>\n"
      ],
      "text/latex": [
       "\\begin{enumerate*}\n",
       "\\item 'CITY'\n",
       "\\item 'CITY\\_ASCII'\n",
       "\\item 'LAT'\n",
       "\\item 'LNG'\n",
       "\\item 'COUNTRY'\n",
       "\\item 'ISO2'\n",
       "\\item 'ISO3'\n",
       "\\item 'ADMIN\\_NAME'\n",
       "\\item 'CAPITAL'\n",
       "\\item 'POPULATION'\n",
       "\\item 'ID'\n",
       "\\end{enumerate*}\n"
      ],
      "text/markdown": [
       "1. 'CITY'\n",
       "2. 'CITY_ASCII'\n",
       "3. 'LAT'\n",
       "4. 'LNG'\n",
       "5. 'COUNTRY'\n",
       "6. 'ISO2'\n",
       "7. 'ISO3'\n",
       "8. 'ADMIN_NAME'\n",
       "9. 'CAPITAL'\n",
       "10. 'POPULATION'\n",
       "11. 'ID'\n",
       "\n",
       "\n"
      ],
      "text/plain": [
       " [1] \"CITY\"       \"CITY_ASCII\" \"LAT\"        \"LNG\"        \"COUNTRY\"   \n",
       " [6] \"ISO2\"       \"ISO3\"       \"ADMIN_NAME\" \"CAPITAL\"    \"POPULATION\"\n",
       "[11] \"ID\"        "
      ]
     },
     "metadata": {},
     "output_type": "display_data"
    }
   ],
   "source": [
    "names(df_world)"
   ]
  },
  {
   "cell_type": "code",
   "execution_count": 4,
   "metadata": {},
   "outputs": [
    {
     "data": {
      "text/html": [
       "<ol class=list-inline>\n",
       "\t<li>'COUNTRY'</li>\n",
       "\t<li>'CITY'</li>\n",
       "\t<li>'SYSTEM'</li>\n",
       "\t<li>'BICYCLES'</li>\n",
       "</ol>\n"
      ],
      "text/latex": [
       "\\begin{enumerate*}\n",
       "\\item 'COUNTRY'\n",
       "\\item 'CITY'\n",
       "\\item 'SYSTEM'\n",
       "\\item 'BICYCLES'\n",
       "\\end{enumerate*}\n"
      ],
      "text/markdown": [
       "1. 'COUNTRY'\n",
       "2. 'CITY'\n",
       "3. 'SYSTEM'\n",
       "4. 'BICYCLES'\n",
       "\n",
       "\n"
      ],
      "text/plain": [
       "[1] \"COUNTRY\"  \"CITY\"     \"SYSTEM\"   \"BICYCLES\""
      ]
     },
     "metadata": {},
     "output_type": "display_data"
    }
   ],
   "source": [
    "names(df_bikesys)"
   ]
  },
  {
   "cell_type": "code",
   "execution_count": 5,
   "metadata": {},
   "outputs": [
    {
     "data": {
      "text/html": [
       "<ol class=list-inline>\n",
       "\t<li>'CITY'</li>\n",
       "\t<li>'WEATHER'</li>\n",
       "\t<li>'VISIBILITY'</li>\n",
       "\t<li>'TEMP'</li>\n",
       "\t<li>'TEMP_MIN'</li>\n",
       "\t<li>'TEMP_MAX'</li>\n",
       "\t<li>'PRESSURE'</li>\n",
       "\t<li>'HUMIDITY'</li>\n",
       "\t<li>'WIND_SPEED'</li>\n",
       "\t<li>'WIND_DEG'</li>\n",
       "\t<li>'SEASON'</li>\n",
       "\t<li>'FORECAST_DATETIME'</li>\n",
       "</ol>\n"
      ],
      "text/latex": [
       "\\begin{enumerate*}\n",
       "\\item 'CITY'\n",
       "\\item 'WEATHER'\n",
       "\\item 'VISIBILITY'\n",
       "\\item 'TEMP'\n",
       "\\item 'TEMP\\_MIN'\n",
       "\\item 'TEMP\\_MAX'\n",
       "\\item 'PRESSURE'\n",
       "\\item 'HUMIDITY'\n",
       "\\item 'WIND\\_SPEED'\n",
       "\\item 'WIND\\_DEG'\n",
       "\\item 'SEASON'\n",
       "\\item 'FORECAST\\_DATETIME'\n",
       "\\end{enumerate*}\n"
      ],
      "text/markdown": [
       "1. 'CITY'\n",
       "2. 'WEATHER'\n",
       "3. 'VISIBILITY'\n",
       "4. 'TEMP'\n",
       "5. 'TEMP_MIN'\n",
       "6. 'TEMP_MAX'\n",
       "7. 'PRESSURE'\n",
       "8. 'HUMIDITY'\n",
       "9. 'WIND_SPEED'\n",
       "10. 'WIND_DEG'\n",
       "11. 'SEASON'\n",
       "12. 'FORECAST_DATETIME'\n",
       "\n",
       "\n"
      ],
      "text/plain": [
       " [1] \"CITY\"              \"WEATHER\"           \"VISIBILITY\"       \n",
       " [4] \"TEMP\"              \"TEMP_MIN\"          \"TEMP_MAX\"         \n",
       " [7] \"PRESSURE\"          \"HUMIDITY\"          \"WIND_SPEED\"       \n",
       "[10] \"WIND_DEG\"          \"SEASON\"            \"FORECAST_DATETIME\""
      ]
     },
     "metadata": {},
     "output_type": "display_data"
    }
   ],
   "source": [
    "names(df_forecast)"
   ]
  },
  {
   "cell_type": "code",
   "execution_count": 6,
   "metadata": {},
   "outputs": [
    {
     "data": {
      "text/html": [
       "<ol class=list-inline>\n",
       "\t<li>'DATE'</li>\n",
       "\t<li>'RENTED_BIKE_COUNT'</li>\n",
       "\t<li>'HOUR'</li>\n",
       "\t<li>'TEMPERATURE'</li>\n",
       "\t<li>'HUMIDITY'</li>\n",
       "\t<li>'WIND_SPEED'</li>\n",
       "\t<li>'VISIBILITY'</li>\n",
       "\t<li>'DEW_POINT_TEMPERATURE'</li>\n",
       "\t<li>'SOLAR_RADIATION'</li>\n",
       "\t<li>'RAINFALL'</li>\n",
       "\t<li>'SNOWFALL'</li>\n",
       "\t<li>'SEASONS'</li>\n",
       "\t<li>'HOLIDAY'</li>\n",
       "\t<li>'FUNCTIONING_DAY'</li>\n",
       "</ol>\n"
      ],
      "text/latex": [
       "\\begin{enumerate*}\n",
       "\\item 'DATE'\n",
       "\\item 'RENTED\\_BIKE\\_COUNT'\n",
       "\\item 'HOUR'\n",
       "\\item 'TEMPERATURE'\n",
       "\\item 'HUMIDITY'\n",
       "\\item 'WIND\\_SPEED'\n",
       "\\item 'VISIBILITY'\n",
       "\\item 'DEW\\_POINT\\_TEMPERATURE'\n",
       "\\item 'SOLAR\\_RADIATION'\n",
       "\\item 'RAINFALL'\n",
       "\\item 'SNOWFALL'\n",
       "\\item 'SEASONS'\n",
       "\\item 'HOLIDAY'\n",
       "\\item 'FUNCTIONING\\_DAY'\n",
       "\\end{enumerate*}\n"
      ],
      "text/markdown": [
       "1. 'DATE'\n",
       "2. 'RENTED_BIKE_COUNT'\n",
       "3. 'HOUR'\n",
       "4. 'TEMPERATURE'\n",
       "5. 'HUMIDITY'\n",
       "6. 'WIND_SPEED'\n",
       "7. 'VISIBILITY'\n",
       "8. 'DEW_POINT_TEMPERATURE'\n",
       "9. 'SOLAR_RADIATION'\n",
       "10. 'RAINFALL'\n",
       "11. 'SNOWFALL'\n",
       "12. 'SEASONS'\n",
       "13. 'HOLIDAY'\n",
       "14. 'FUNCTIONING_DAY'\n",
       "\n",
       "\n"
      ],
      "text/plain": [
       " [1] \"DATE\"                  \"RENTED_BIKE_COUNT\"     \"HOUR\"                 \n",
       " [4] \"TEMPERATURE\"           \"HUMIDITY\"              \"WIND_SPEED\"           \n",
       " [7] \"VISIBILITY\"            \"DEW_POINT_TEMPERATURE\" \"SOLAR_RADIATION\"      \n",
       "[10] \"RAINFALL\"              \"SNOWFALL\"              \"SEASONS\"              \n",
       "[13] \"HOLIDAY\"               \"FUNCTIONING_DAY\"      "
      ]
     },
     "metadata": {},
     "output_type": "display_data"
    }
   ],
   "source": [
    "names(df_seoulbike)"
   ]
  },
  {
   "cell_type": "markdown",
   "metadata": {},
   "source": [
    "\n",
    "## Task 1 - Record Count\n",
    "#### Determine how many records are in the seoul_bike_sharing dataset.\n"
   ]
  },
  {
   "cell_type": "markdown",
   "metadata": {},
   "source": [
    "### Solution 1\n"
   ]
  },
  {
   "cell_type": "code",
   "execution_count": 7,
   "metadata": {},
   "outputs": [
    {
     "data": {
      "text/html": [
       "<table>\n",
       "<thead><tr><th scope=col>count(*)</th></tr></thead>\n",
       "<tbody>\n",
       "\t<tr><td>8465</td></tr>\n",
       "</tbody>\n",
       "</table>\n"
      ],
      "text/latex": [
       "\\begin{tabular}{r|l}\n",
       " count(*)\\\\\n",
       "\\hline\n",
       "\t 8465\\\\\n",
       "\\end{tabular}\n"
      ],
      "text/markdown": [
       "\n",
       "| count(*) |\n",
       "|---|\n",
       "| 8465 |\n",
       "\n"
      ],
      "text/plain": [
       "  count(*)\n",
       "1 8465    "
      ]
     },
     "metadata": {},
     "output_type": "display_data"
    }
   ],
   "source": [
    "# provide your solution here\n",
    "dbGetQuery(conn, \"select count(*) from SEOUL_BIKE_SHARING\")"
   ]
  },
  {
   "cell_type": "markdown",
   "metadata": {},
   "source": [
    "## Task 2 - Operational Hours\n",
    "#### Determine how many hours had non-zero rented bike count.\n"
   ]
  },
  {
   "cell_type": "markdown",
   "metadata": {},
   "source": [
    "### Solution 2\n"
   ]
  },
  {
   "cell_type": "code",
   "execution_count": 8,
   "metadata": {},
   "outputs": [
    {
     "data": {
      "text/html": [
       "<table>\n",
       "<thead><tr><th scope=col>count(HOUR)</th></tr></thead>\n",
       "<tbody>\n",
       "\t<tr><td>8465</td></tr>\n",
       "</tbody>\n",
       "</table>\n"
      ],
      "text/latex": [
       "\\begin{tabular}{r|l}\n",
       " count(HOUR)\\\\\n",
       "\\hline\n",
       "\t 8465\\\\\n",
       "\\end{tabular}\n"
      ],
      "text/markdown": [
       "\n",
       "| count(HOUR) |\n",
       "|---|\n",
       "| 8465 |\n",
       "\n"
      ],
      "text/plain": [
       "  count(HOUR)\n",
       "1 8465       "
      ]
     },
     "metadata": {},
     "output_type": "display_data"
    }
   ],
   "source": [
    "# provide your solution here\n",
    "dbGetQuery(conn, \"select count(HOUR) from SEOUL_BIKE_SHARING where RENTED_BIKE_COUNT > 0\")"
   ]
  },
  {
   "cell_type": "markdown",
   "metadata": {},
   "source": [
    "## Task 3 - Weather Outlook\n",
    "#### Query the the weather forecast for Seoul over the next 3 hours.\n",
    "Recall that the records in the CITIES_WEATHER_FORECAST dataset are 3 hours apart, so we just need the first record from the query.\n"
   ]
  },
  {
   "cell_type": "markdown",
   "metadata": {},
   "source": [
    "### Solution 3\n"
   ]
  },
  {
   "cell_type": "code",
   "execution_count": 9,
   "metadata": {},
   "outputs": [
    {
     "data": {
      "text/html": [
       "<table>\n",
       "<thead><tr><th scope=col>CITY</th><th scope=col>WEATHER</th><th scope=col>VISIBILITY</th><th scope=col>TEMP</th><th scope=col>TEMP_MIN</th><th scope=col>TEMP_MAX</th><th scope=col>PRESSURE</th><th scope=col>HUMIDITY</th><th scope=col>WIND_SPEED</th><th scope=col>WIND_DEG</th><th scope=col>SEASON</th><th scope=col>FORECAST_DATETIME</th></tr></thead>\n",
       "<tbody>\n",
       "\t<tr><td>Seoul     </td><td>Clear     </td><td>10000     </td><td>12.32     </td><td>10.91     </td><td>12.32     </td><td>1015      </td><td>50        </td><td>2.18      </td><td>248       </td><td>Spring    </td><td>1618574400</td></tr>\n",
       "</tbody>\n",
       "</table>\n"
      ],
      "text/latex": [
       "\\begin{tabular}{r|llllllllllll}\n",
       " CITY & WEATHER & VISIBILITY & TEMP & TEMP\\_MIN & TEMP\\_MAX & PRESSURE & HUMIDITY & WIND\\_SPEED & WIND\\_DEG & SEASON & FORECAST\\_DATETIME\\\\\n",
       "\\hline\n",
       "\t Seoul      & Clear      & 10000      & 12.32      & 10.91      & 12.32      & 1015       & 50         & 2.18       & 248        & Spring     & 1618574400\\\\\n",
       "\\end{tabular}\n"
      ],
      "text/markdown": [
       "\n",
       "| CITY | WEATHER | VISIBILITY | TEMP | TEMP_MIN | TEMP_MAX | PRESSURE | HUMIDITY | WIND_SPEED | WIND_DEG | SEASON | FORECAST_DATETIME |\n",
       "|---|---|---|---|---|---|---|---|---|---|---|---|\n",
       "| Seoul      | Clear      | 10000      | 12.32      | 10.91      | 12.32      | 1015       | 50         | 2.18       | 248        | Spring     | 1618574400 |\n",
       "\n"
      ],
      "text/plain": [
       "  CITY  WEATHER VISIBILITY TEMP  TEMP_MIN TEMP_MAX PRESSURE HUMIDITY WIND_SPEED\n",
       "1 Seoul Clear   10000      12.32 10.91    12.32    1015     50       2.18      \n",
       "  WIND_DEG SEASON FORECAST_DATETIME\n",
       "1 248      Spring 1618574400       "
      ]
     },
     "metadata": {},
     "output_type": "display_data"
    }
   ],
   "source": [
    "# provide your solution here\n",
    "dbGetQuery(conn, \"select * from CITIES_WEATHER_FORECAST limit 1\")"
   ]
  },
  {
   "cell_type": "markdown",
   "metadata": {},
   "source": [
    "## Task 4 - Seasons\n",
    "#### Find which seasons are included in the seoul bike sharing dataset.\n"
   ]
  },
  {
   "cell_type": "markdown",
   "metadata": {},
   "source": [
    "### Solution 4\n"
   ]
  },
  {
   "cell_type": "code",
   "execution_count": 10,
   "metadata": {},
   "outputs": [
    {
     "data": {
      "text/html": [
       "<table>\n",
       "<thead><tr><th scope=col>SEASONS</th></tr></thead>\n",
       "<tbody>\n",
       "\t<tr><td>Winter</td></tr>\n",
       "\t<tr><td>Spring</td></tr>\n",
       "\t<tr><td>Summer</td></tr>\n",
       "\t<tr><td>Autumn</td></tr>\n",
       "</tbody>\n",
       "</table>\n"
      ],
      "text/latex": [
       "\\begin{tabular}{r|l}\n",
       " SEASONS\\\\\n",
       "\\hline\n",
       "\t Winter\\\\\n",
       "\t Spring\\\\\n",
       "\t Summer\\\\\n",
       "\t Autumn\\\\\n",
       "\\end{tabular}\n"
      ],
      "text/markdown": [
       "\n",
       "| SEASONS |\n",
       "|---|\n",
       "| Winter |\n",
       "| Spring |\n",
       "| Summer |\n",
       "| Autumn |\n",
       "\n"
      ],
      "text/plain": [
       "  SEASONS\n",
       "1 Winter \n",
       "2 Spring \n",
       "3 Summer \n",
       "4 Autumn "
      ]
     },
     "metadata": {},
     "output_type": "display_data"
    }
   ],
   "source": [
    "# provide your solution here\n",
    "dbGetQuery(conn, \"select distinct SEASONS from SEOUL_BIKE_SHARING\")"
   ]
  },
  {
   "cell_type": "markdown",
   "metadata": {},
   "source": [
    "## Task 5 - Date Range\n",
    "#### Find the first and last dates in the Seoul Bike Sharing dataset.\n"
   ]
  },
  {
   "cell_type": "markdown",
   "metadata": {},
   "source": [
    "### Solution 5\n"
   ]
  },
  {
   "cell_type": "code",
   "execution_count": 11,
   "metadata": {},
   "outputs": [
    {
     "data": {
      "text/html": [
       "<table>\n",
       "<thead><tr><th scope=col>min(DATE)</th><th scope=col>max(DATE)</th></tr></thead>\n",
       "<tbody>\n",
       "\t<tr><td>01/01/2018</td><td>31/12/2017</td></tr>\n",
       "</tbody>\n",
       "</table>\n"
      ],
      "text/latex": [
       "\\begin{tabular}{r|ll}\n",
       " min(DATE) & max(DATE)\\\\\n",
       "\\hline\n",
       "\t 01/01/2018 & 31/12/2017\\\\\n",
       "\\end{tabular}\n"
      ],
      "text/markdown": [
       "\n",
       "| min(DATE) | max(DATE) |\n",
       "|---|---|\n",
       "| 01/01/2018 | 31/12/2017 |\n",
       "\n"
      ],
      "text/plain": [
       "  min(DATE)  max(DATE) \n",
       "1 01/01/2018 31/12/2017"
      ]
     },
     "metadata": {},
     "output_type": "display_data"
    }
   ],
   "source": [
    "# provide your solution here\n",
    "dbGetQuery(conn, \"select min(DATE), max(DATE) from SEOUL_BIKE_SHARING\")"
   ]
  },
  {
   "cell_type": "markdown",
   "metadata": {},
   "source": [
    "## Task 6 - Subquery - 'all-time high'\n",
    "#### determine which date and hour had the most bike rentals.\n"
   ]
  },
  {
   "cell_type": "markdown",
   "metadata": {},
   "source": [
    "### Solution 6\n"
   ]
  },
  {
   "cell_type": "code",
   "execution_count": 12,
   "metadata": {},
   "outputs": [
    {
     "data": {
      "text/html": [
       "<table>\n",
       "<thead><tr><th scope=col>DATE</th><th scope=col>HOUR</th></tr></thead>\n",
       "<tbody>\n",
       "\t<tr><td>19/06/2018</td><td>18        </td></tr>\n",
       "</tbody>\n",
       "</table>\n"
      ],
      "text/latex": [
       "\\begin{tabular}{r|ll}\n",
       " DATE & HOUR\\\\\n",
       "\\hline\n",
       "\t 19/06/2018 & 18        \\\\\n",
       "\\end{tabular}\n"
      ],
      "text/markdown": [
       "\n",
       "| DATE | HOUR |\n",
       "|---|---|\n",
       "| 19/06/2018 | 18         |\n",
       "\n"
      ],
      "text/plain": [
       "  DATE       HOUR\n",
       "1 19/06/2018 18  "
      ]
     },
     "metadata": {},
     "output_type": "display_data"
    }
   ],
   "source": [
    "# provide your solution here\n",
    "dbGetQuery(conn, \"select DATE, HOUR from SEOUL_BIKE_SHARING \n",
    "                  where RENTED_BIKE_COUNT = (select max(RENTED_BIKE_COUNT) from SEOUL_BIKE_SHARING)\")"
   ]
  },
  {
   "cell_type": "markdown",
   "metadata": {},
   "source": [
    "## Task 7 - Hourly popularity and temperature by season\n",
    "#### Determine the average hourly temperature and the average number of bike rentals per hour over each season. List the top ten results by average bike count.\n"
   ]
  },
  {
   "cell_type": "markdown",
   "metadata": {},
   "source": [
    "### Solution 7\n"
   ]
  },
  {
   "cell_type": "code",
   "execution_count": 13,
   "metadata": {},
   "outputs": [
    {
     "data": {
      "text/html": [
       "<table>\n",
       "<thead><tr><th scope=col>SEASONS</th><th scope=col>avg(TEMPERATURE)</th><th scope=col>avg(RENTED_BIKE_COUNT)</th></tr></thead>\n",
       "<tbody>\n",
       "\t<tr><td>Summer   </td><td>26.587711</td><td>1034.0734</td></tr>\n",
       "\t<tr><td>Autumn   </td><td>13.821580</td><td> 924.1105</td></tr>\n",
       "\t<tr><td>Spring   </td><td>13.021685</td><td> 746.2542</td></tr>\n",
       "\t<tr><td>Winter   </td><td>-2.540463</td><td> 225.5412</td></tr>\n",
       "</tbody>\n",
       "</table>\n"
      ],
      "text/latex": [
       "\\begin{tabular}{r|lll}\n",
       " SEASONS & avg(TEMPERATURE) & avg(RENTED\\_BIKE\\_COUNT)\\\\\n",
       "\\hline\n",
       "\t Summer    & 26.587711 & 1034.0734\\\\\n",
       "\t Autumn    & 13.821580 &  924.1105\\\\\n",
       "\t Spring    & 13.021685 &  746.2542\\\\\n",
       "\t Winter    & -2.540463 &  225.5412\\\\\n",
       "\\end{tabular}\n"
      ],
      "text/markdown": [
       "\n",
       "| SEASONS | avg(TEMPERATURE) | avg(RENTED_BIKE_COUNT) |\n",
       "|---|---|---|\n",
       "| Summer    | 26.587711 | 1034.0734 |\n",
       "| Autumn    | 13.821580 |  924.1105 |\n",
       "| Spring    | 13.021685 |  746.2542 |\n",
       "| Winter    | -2.540463 |  225.5412 |\n",
       "\n"
      ],
      "text/plain": [
       "  SEASONS avg(TEMPERATURE) avg(RENTED_BIKE_COUNT)\n",
       "1 Summer  26.587711        1034.0734             \n",
       "2 Autumn  13.821580         924.1105             \n",
       "3 Spring  13.021685         746.2542             \n",
       "4 Winter  -2.540463         225.5412             "
      ]
     },
     "metadata": {},
     "output_type": "display_data"
    }
   ],
   "source": [
    "# provide your solution here\n",
    "dbGetQuery(conn, \"select SEASONS, avg(TEMPERATURE), avg(RENTED_BIKE_COUNT) from SEOUL_BIKE_SHARING \n",
    "                  group by SEASONS order by avg(RENTED_BIKE_COUNT) desc limit 10\")"
   ]
  },
  {
   "cell_type": "markdown",
   "metadata": {},
   "source": [
    "## Task 8 - Rental Seasonality\n",
    "#### Find the average hourly bike count during each season. \n",
    "Also include the minimum, maximum, and standard deviation of the hourly bike count for each season. \n",
    "\n",
    "> Hint : Use the SQRT(AVG(col*col) - AVG(col)*AVG(col) ) function where col refers to your column name for finding the standard deviation\n"
   ]
  },
  {
   "cell_type": "markdown",
   "metadata": {},
   "source": [
    "### Solution 8\n"
   ]
  },
  {
   "cell_type": "code",
   "execution_count": 14,
   "metadata": {},
   "outputs": [
    {
     "data": {
      "text/html": [
       "<table>\n",
       "<thead><tr><th scope=col>SEASONS</th><th scope=col>AVG(RENTED_BIKE_COUNT)</th><th scope=col>MIN(RENTED_BIKE_COUNT)</th><th scope=col>MAX(RENTED_BIKE_COUNT)</th><th scope=col>STDEV</th></tr></thead>\n",
       "<tbody>\n",
       "\t<tr><td>Autumn   </td><td> 924.1105</td><td>2        </td><td>3298     </td><td>617.3885 </td></tr>\n",
       "\t<tr><td>Spring   </td><td> 746.2542</td><td>2        </td><td>3251     </td><td>618.5247 </td></tr>\n",
       "\t<tr><td>Summer   </td><td>1034.0734</td><td>9        </td><td>3556     </td><td>690.0884 </td></tr>\n",
       "\t<tr><td>Winter   </td><td> 225.5412</td><td>3        </td><td> 937     </td><td>150.3374 </td></tr>\n",
       "</tbody>\n",
       "</table>\n"
      ],
      "text/latex": [
       "\\begin{tabular}{r|lllll}\n",
       " SEASONS & AVG(RENTED\\_BIKE\\_COUNT) & MIN(RENTED\\_BIKE\\_COUNT) & MAX(RENTED\\_BIKE\\_COUNT) & STDEV\\\\\n",
       "\\hline\n",
       "\t Autumn    &  924.1105 & 2         & 3298      & 617.3885 \\\\\n",
       "\t Spring    &  746.2542 & 2         & 3251      & 618.5247 \\\\\n",
       "\t Summer    & 1034.0734 & 9         & 3556      & 690.0884 \\\\\n",
       "\t Winter    &  225.5412 & 3         &  937      & 150.3374 \\\\\n",
       "\\end{tabular}\n"
      ],
      "text/markdown": [
       "\n",
       "| SEASONS | AVG(RENTED_BIKE_COUNT) | MIN(RENTED_BIKE_COUNT) | MAX(RENTED_BIKE_COUNT) | STDEV |\n",
       "|---|---|---|---|---|\n",
       "| Autumn    |  924.1105 | 2         | 3298      | 617.3885  |\n",
       "| Spring    |  746.2542 | 2         | 3251      | 618.5247  |\n",
       "| Summer    | 1034.0734 | 9         | 3556      | 690.0884  |\n",
       "| Winter    |  225.5412 | 3         |  937      | 150.3374  |\n",
       "\n"
      ],
      "text/plain": [
       "  SEASONS AVG(RENTED_BIKE_COUNT) MIN(RENTED_BIKE_COUNT) MAX(RENTED_BIKE_COUNT)\n",
       "1 Autumn   924.1105              2                      3298                  \n",
       "2 Spring   746.2542              2                      3251                  \n",
       "3 Summer  1034.0734              9                      3556                  \n",
       "4 Winter   225.5412              3                       937                  \n",
       "  STDEV   \n",
       "1 617.3885\n",
       "2 618.5247\n",
       "3 690.0884\n",
       "4 150.3374"
      ]
     },
     "metadata": {},
     "output_type": "display_data"
    }
   ],
   "source": [
    "# provide your solution here\n",
    "dbGetQuery(conn, \"select SEASONS, AVG(RENTED_BIKE_COUNT), MIN(RENTED_BIKE_COUNT), MAX(RENTED_BIKE_COUNT),\n",
    "                  SQRT( AVG(RENTED_BIKE_COUNT*RENTED_BIKE_COUNT) - AVG(RENTED_BIKE_COUNT)*AVG(RENTED_BIKE_COUNT) ) as STDEV\n",
    "                  from SEOUL_BIKE_SHARING group by SEASONS\")"
   ]
  },
  {
   "cell_type": "markdown",
   "metadata": {},
   "source": [
    "Let's explore a bit and see what might be the most significant contributing factors in terms of the provided data.\n"
   ]
  },
  {
   "cell_type": "markdown",
   "metadata": {},
   "source": [
    "## Task 9 - Weather Seasonality\n",
    "#### Consider the weather over each season. On average, what were the TEMPERATURE, HUMIDITY, WIND_SPEED, VISIBILITY, DEW_POINT_TEMPERATURE, SOLAR_RADIATION, RAINFALL, and SNOWFALL per season?\n",
    "Include the average bike count as well , and rank the results by average bike count so you can see if it is correlated with the weather at all. \n"
   ]
  },
  {
   "cell_type": "markdown",
   "metadata": {},
   "source": [
    "### Solution 9\n"
   ]
  },
  {
   "cell_type": "code",
   "execution_count": 15,
   "metadata": {},
   "outputs": [
    {
     "data": {
      "text/html": [
       "<table>\n",
       "<thead><tr><th scope=col>SEASONS</th><th scope=col>avg(TEMPERATURE)</th><th scope=col>avg(HUMIDITY)</th><th scope=col>avg(WIND_SPEED)</th><th scope=col>avg(VISIBILITY)</th><th scope=col>avg_DewPtTemp</th><th scope=col>avg_SolarRad</th><th scope=col>avg(RAINFALL)</th><th scope=col>avg(SNOWFALL)</th><th scope=col>avg_BikeRental</th></tr></thead>\n",
       "<tbody>\n",
       "\t<tr><td>Summer    </td><td>26.587711 </td><td>64.98143  </td><td>1.609420  </td><td>1501.745  </td><td> 18.750136</td><td>0.7612545 </td><td>0.25348732</td><td>0.00000000</td><td>1034.0734 </td></tr>\n",
       "\t<tr><td>Autumn    </td><td>13.821580 </td><td>59.04491  </td><td>1.492101  </td><td>1558.174  </td><td>  5.150594</td><td>0.5227827 </td><td>0.11765617</td><td>0.06350026</td><td> 924.1105 </td></tr>\n",
       "\t<tr><td>Spring    </td><td>13.021685 </td><td>58.75833  </td><td>1.857778  </td><td>1240.912  </td><td>  4.091389</td><td>0.6803009 </td><td>0.18694444</td><td>0.00000000</td><td> 746.2542 </td></tr>\n",
       "\t<tr><td>Winter    </td><td>-2.540463 </td><td>49.74491  </td><td>1.922685  </td><td>1445.987  </td><td>-12.416667</td><td>0.2981806 </td><td>0.03282407</td><td>0.24750000</td><td> 225.5412 </td></tr>\n",
       "</tbody>\n",
       "</table>\n"
      ],
      "text/latex": [
       "\\begin{tabular}{r|llllllllll}\n",
       " SEASONS & avg(TEMPERATURE) & avg(HUMIDITY) & avg(WIND\\_SPEED) & avg(VISIBILITY) & avg\\_DewPtTemp & avg\\_SolarRad & avg(RAINFALL) & avg(SNOWFALL) & avg\\_BikeRental\\\\\n",
       "\\hline\n",
       "\t Summer     & 26.587711  & 64.98143   & 1.609420   & 1501.745   &  18.750136 & 0.7612545  & 0.25348732 & 0.00000000 & 1034.0734 \\\\\n",
       "\t Autumn     & 13.821580  & 59.04491   & 1.492101   & 1558.174   &   5.150594 & 0.5227827  & 0.11765617 & 0.06350026 &  924.1105 \\\\\n",
       "\t Spring     & 13.021685  & 58.75833   & 1.857778   & 1240.912   &   4.091389 & 0.6803009  & 0.18694444 & 0.00000000 &  746.2542 \\\\\n",
       "\t Winter     & -2.540463  & 49.74491   & 1.922685   & 1445.987   & -12.416667 & 0.2981806  & 0.03282407 & 0.24750000 &  225.5412 \\\\\n",
       "\\end{tabular}\n"
      ],
      "text/markdown": [
       "\n",
       "| SEASONS | avg(TEMPERATURE) | avg(HUMIDITY) | avg(WIND_SPEED) | avg(VISIBILITY) | avg_DewPtTemp | avg_SolarRad | avg(RAINFALL) | avg(SNOWFALL) | avg_BikeRental |\n",
       "|---|---|---|---|---|---|---|---|---|---|\n",
       "| Summer     | 26.587711  | 64.98143   | 1.609420   | 1501.745   |  18.750136 | 0.7612545  | 0.25348732 | 0.00000000 | 1034.0734  |\n",
       "| Autumn     | 13.821580  | 59.04491   | 1.492101   | 1558.174   |   5.150594 | 0.5227827  | 0.11765617 | 0.06350026 |  924.1105  |\n",
       "| Spring     | 13.021685  | 58.75833   | 1.857778   | 1240.912   |   4.091389 | 0.6803009  | 0.18694444 | 0.00000000 |  746.2542  |\n",
       "| Winter     | -2.540463  | 49.74491   | 1.922685   | 1445.987   | -12.416667 | 0.2981806  | 0.03282407 | 0.24750000 |  225.5412  |\n",
       "\n"
      ],
      "text/plain": [
       "  SEASONS avg(TEMPERATURE) avg(HUMIDITY) avg(WIND_SPEED) avg(VISIBILITY)\n",
       "1 Summer  26.587711        64.98143      1.609420        1501.745       \n",
       "2 Autumn  13.821580        59.04491      1.492101        1558.174       \n",
       "3 Spring  13.021685        58.75833      1.857778        1240.912       \n",
       "4 Winter  -2.540463        49.74491      1.922685        1445.987       \n",
       "  avg_DewPtTemp avg_SolarRad avg(RAINFALL) avg(SNOWFALL) avg_BikeRental\n",
       "1  18.750136    0.7612545    0.25348732    0.00000000    1034.0734     \n",
       "2   5.150594    0.5227827    0.11765617    0.06350026     924.1105     \n",
       "3   4.091389    0.6803009    0.18694444    0.00000000     746.2542     \n",
       "4 -12.416667    0.2981806    0.03282407    0.24750000     225.5412     "
      ]
     },
     "metadata": {},
     "output_type": "display_data"
    }
   ],
   "source": [
    "# provide your solution here\n",
    "dbGetQuery(conn, \"select SEASONS, avg(TEMPERATURE), avg(HUMIDITY), avg(WIND_SPEED), avg(VISIBILITY),\n",
    "                  avg(DEW_POINT_TEMPERATURE) as avg_DewPtTemp, avg(SOLAR_RADIATION) as avg_SolarRad,\n",
    "                  avg(RAINFALL), avg(SNOWFALL), avg(RENTED_BIKE_COUNT) as avg_BikeRental\n",
    "                  from SEOUL_BIKE_SHARING group by SEASONS order by avg(RENTED_BIKE_COUNT) desc\")"
   ]
  },
  {
   "cell_type": "markdown",
   "metadata": {},
   "source": [
    "## Task 10 - Total Bike Count and City Info for Seoul\n",
    "#### Use an implicit join across the WORLD_CITIES and the BIKE_SHARING_SYSTEMS tables to determine the total number of bikes avaialble in Seoul, plus the following city information about Seoul: CITY, COUNTRY, LAT, LON, POPULATION, in a single view.\n",
    "Notice that in this case, the CITY column will work for the WORLD_CITIES table, but in general you would have to use the CITY_ASCII column.\n"
   ]
  },
  {
   "cell_type": "markdown",
   "metadata": {},
   "source": [
    "### Solution 10\n"
   ]
  },
  {
   "cell_type": "code",
   "execution_count": 16,
   "metadata": {},
   "outputs": [
    {
     "data": {
      "text/html": [
       "<table>\n",
       "<thead><tr><th scope=col>Total_Bicycles</th><th scope=col>CITY</th><th scope=col>COUNTRY</th><th scope=col>LAT</th><th scope=col>LNG</th><th scope=col>POPULATION</th></tr></thead>\n",
       "<tbody>\n",
       "\t<tr><td>20000       </td><td>Seoul       </td><td>Korea, South</td><td>37.5833     </td><td>127         </td><td>21794000    </td></tr>\n",
       "</tbody>\n",
       "</table>\n"
      ],
      "text/latex": [
       "\\begin{tabular}{r|llllll}\n",
       " Total\\_Bicycles & CITY & COUNTRY & LAT & LNG & POPULATION\\\\\n",
       "\\hline\n",
       "\t 20000        & Seoul        & Korea, South & 37.5833      & 127          & 21794000    \\\\\n",
       "\\end{tabular}\n"
      ],
      "text/markdown": [
       "\n",
       "| Total_Bicycles | CITY | COUNTRY | LAT | LNG | POPULATION |\n",
       "|---|---|---|---|---|---|\n",
       "| 20000        | Seoul        | Korea, South | 37.5833      | 127          | 21794000     |\n",
       "\n"
      ],
      "text/plain": [
       "  Total_Bicycles CITY  COUNTRY      LAT     LNG POPULATION\n",
       "1 20000          Seoul Korea, South 37.5833 127 21794000  "
      ]
     },
     "metadata": {},
     "output_type": "display_data"
    }
   ],
   "source": [
    "# provide your solution here\n",
    "dbGetQuery(conn, \"select sum(B.BICYCLES) as Total_Bicycles, W.CITY, W.COUNTRY, W.LAT, W.LNG, W.POPULATION\n",
    "                  from WORLD_CITIES W, BIKE_SHARING_SYSTEMS B where W.CITY=B.CITY and W.CITY='Seoul'\")"
   ]
  },
  {
   "cell_type": "markdown",
   "metadata": {},
   "source": [
    "## Task 11 - Find all city names and coordinates with comparable bike scale to Seoul's bike sharing system\n",
    "#### Find all cities with total bike counts between 15000 and 20000. Return the city and country names, plus the coordinates (LAT, LNG), population, and number of bicycles for each city.\n",
    "Later we will ask you to visualize these similar cities on leaflet, with some weather data.\n"
   ]
  },
  {
   "cell_type": "markdown",
   "metadata": {},
   "source": [
    "### Solution 11\n"
   ]
  },
  {
   "cell_type": "code",
   "execution_count": 17,
   "metadata": {},
   "outputs": [
    {
     "data": {
      "text/html": [
       "<table>\n",
       "<thead><tr><th scope=col>CITY</th><th scope=col>CITY_ASCII</th><th scope=col>LAT</th><th scope=col>LNG</th><th scope=col>COUNTRY</th><th scope=col>ISO2</th><th scope=col>ISO3</th><th scope=col>ADMIN_NAME</th><th scope=col>CAPITAL</th><th scope=col>POPULATION</th><th scope=col>ID</th></tr></thead>\n",
       "<tbody>\n",
       "\t<tr><td>Tokyo                          </td><td>Tokyo                          </td><td>35.6897                        </td><td>139.6922                       </td><td>Japan                          </td><td>JP                             </td><td>JPN                            </td><td>T&lt;U+014D&gt;ky&lt;U+014D&gt;</td><td>primary                        </td><td>37977000                       </td><td>1392685764                     </td></tr>\n",
       "</tbody>\n",
       "</table>\n"
      ],
      "text/latex": [
       "\\begin{tabular}{r|lllllllllll}\n",
       " CITY & CITY\\_ASCII & LAT & LNG & COUNTRY & ISO2 & ISO3 & ADMIN\\_NAME & CAPITAL & POPULATION & ID\\\\\n",
       "\\hline\n",
       "\t Tokyo               & Tokyo               & 35.6897             & 139.6922            & Japan               & JP                  & JPN                 & T<U+014D>ky<U+014D> & primary             & 37977000            & 1392685764         \\\\\n",
       "\\end{tabular}\n"
      ],
      "text/markdown": [
       "\n",
       "| CITY | CITY_ASCII | LAT | LNG | COUNTRY | ISO2 | ISO3 | ADMIN_NAME | CAPITAL | POPULATION | ID |\n",
       "|---|---|---|---|---|---|---|---|---|---|---|\n",
       "| Tokyo               | Tokyo               | 35.6897             | 139.6922            | Japan               | JP                  | JPN                 | T<U+014D>ky<U+014D> | primary             | 37977000            | 1392685764          |\n",
       "\n"
      ],
      "text/plain": [
       "  CITY  CITY_ASCII LAT     LNG      COUNTRY ISO2 ISO3 ADMIN_NAME         \n",
       "1 Tokyo Tokyo      35.6897 139.6922 Japan   JP   JPN  T<U+014D>ky<U+014D>\n",
       "  CAPITAL POPULATION ID        \n",
       "1 primary 37977000   1392685764"
      ]
     },
     "metadata": {},
     "output_type": "display_data"
    },
    {
     "data": {
      "text/html": [
       "<table>\n",
       "<thead><tr><th scope=col>COUNTRY</th><th scope=col>CITY</th><th scope=col>SYSTEM</th><th scope=col>BICYCLES</th></tr></thead>\n",
       "<tbody>\n",
       "\t<tr><td>Albania</td><td>Tirana </td><td>NA     </td><td>200    </td></tr>\n",
       "</tbody>\n",
       "</table>\n"
      ],
      "text/latex": [
       "\\begin{tabular}{r|llll}\n",
       " COUNTRY & CITY & SYSTEM & BICYCLES\\\\\n",
       "\\hline\n",
       "\t Albania & Tirana  & NA      & 200    \\\\\n",
       "\\end{tabular}\n"
      ],
      "text/markdown": [
       "\n",
       "| COUNTRY | CITY | SYSTEM | BICYCLES |\n",
       "|---|---|---|---|\n",
       "| Albania | Tirana  | NA      | 200     |\n",
       "\n"
      ],
      "text/plain": [
       "  COUNTRY CITY   SYSTEM BICYCLES\n",
       "1 Albania Tirana NA     200     "
      ]
     },
     "metadata": {},
     "output_type": "display_data"
    },
    {
     "data": {
      "text/html": [
       "<table>\n",
       "<thead><tr><th scope=col>CITY</th><th scope=col>COUNTRY</th><th scope=col>LAT</th><th scope=col>LNG</th><th scope=col>POPULATION</th><th scope=col>TOT_BIKE</th></tr></thead>\n",
       "<tbody>\n",
       "\t<tr><td>Seoul      </td><td>South Korea</td><td>37.5833    </td><td>127.0000   </td><td>21794000   </td><td>20000      </td></tr>\n",
       "\t<tr><td>Weifang    </td><td>China      </td><td>36.7167    </td><td>119.1000   </td><td> 9373000   </td><td>20000      </td></tr>\n",
       "\t<tr><td>Zhuzhou    </td><td>China      </td><td>27.8407    </td><td>113.1469   </td><td> 3855609   </td><td>20000      </td></tr>\n",
       "\t<tr><td>Shanghai   </td><td>China      </td><td>31.1667    </td><td>121.4667   </td><td>22120000   </td><td>19165      </td></tr>\n",
       "\t<tr><td>Beijing    </td><td>China      </td><td>39.9050    </td><td>116.3914   </td><td>19433000   </td><td>16000      </td></tr>\n",
       "\t<tr><td>Ningbo     </td><td>China      </td><td>29.8750    </td><td>121.5492   </td><td> 7639000   </td><td>15000      </td></tr>\n",
       "</tbody>\n",
       "</table>\n"
      ],
      "text/latex": [
       "\\begin{tabular}{r|llllll}\n",
       " CITY & COUNTRY & LAT & LNG & POPULATION & TOT\\_BIKE\\\\\n",
       "\\hline\n",
       "\t Seoul       & South Korea & 37.5833     & 127.0000    & 21794000    & 20000      \\\\\n",
       "\t Weifang     & China       & 36.7167     & 119.1000    &  9373000    & 20000      \\\\\n",
       "\t Zhuzhou     & China       & 27.8407     & 113.1469    &  3855609    & 20000      \\\\\n",
       "\t Shanghai    & China       & 31.1667     & 121.4667    & 22120000    & 19165      \\\\\n",
       "\t Beijing     & China       & 39.9050     & 116.3914    & 19433000    & 16000      \\\\\n",
       "\t Ningbo      & China       & 29.8750     & 121.5492    &  7639000    & 15000      \\\\\n",
       "\\end{tabular}\n"
      ],
      "text/markdown": [
       "\n",
       "| CITY | COUNTRY | LAT | LNG | POPULATION | TOT_BIKE |\n",
       "|---|---|---|---|---|---|\n",
       "| Seoul       | South Korea | 37.5833     | 127.0000    | 21794000    | 20000       |\n",
       "| Weifang     | China       | 36.7167     | 119.1000    |  9373000    | 20000       |\n",
       "| Zhuzhou     | China       | 27.8407     | 113.1469    |  3855609    | 20000       |\n",
       "| Shanghai    | China       | 31.1667     | 121.4667    | 22120000    | 19165       |\n",
       "| Beijing     | China       | 39.9050     | 116.3914    | 19433000    | 16000       |\n",
       "| Ningbo      | China       | 29.8750     | 121.5492    |  7639000    | 15000       |\n",
       "\n"
      ],
      "text/plain": [
       "  CITY     COUNTRY     LAT     LNG      POPULATION TOT_BIKE\n",
       "1 Seoul    South Korea 37.5833 127.0000 21794000   20000   \n",
       "2 Weifang  China       36.7167 119.1000  9373000   20000   \n",
       "3 Zhuzhou  China       27.8407 113.1469  3855609   20000   \n",
       "4 Shanghai China       31.1667 121.4667 22120000   19165   \n",
       "5 Beijing  China       39.9050 116.3914 19433000   16000   \n",
       "6 Ningbo   China       29.8750 121.5492  7639000   15000   "
      ]
     },
     "metadata": {},
     "output_type": "display_data"
    }
   ],
   "source": [
    "# provide your solution here\n",
    "head(df_world,1)\n",
    "head(df_bikesys,1)\n",
    "dbGetQuery(conn, \"select B.CITY, B.COUNTRY, W.LAT, W.LNG, W.POPULATION, SUM(B.BICYCLES) as TOT_BIKE\n",
    "                  from WORLD_CITIES W, BIKE_SHARING_SYSTEMS B where W.CITY = B.CITY \n",
    "                  group by B.CITY, B.COUNTRY having TOT_BIKE between 15000 and 20000\n",
    "                  order by TOT_BIKE desc\")"
   ]
  },
  {
   "cell_type": "code",
   "execution_count": 18,
   "metadata": {},
   "outputs": [],
   "source": [
    "dbDisconnect(conn)"
   ]
  },
  {
   "cell_type": "markdown",
   "metadata": {},
   "source": [
    "## Author(s)\n",
    "\n",
    "<h4> Jeff Grossman </h4>\n",
    "<h4> Lakshmi Holla </h4>\n",
    "\n",
    "\n",
    "## Other Contributor(s)\n",
    "\n",
    "<h4>  Malika Singla </h4>\n",
    "\n",
    "## Change log\n",
    "\n",
    "| Date (YYYY-MM-DD) | Version | Changed By | Change Description                 |\n",
    "| ----------------- | ------- | ---------- | ---------------------------------- |\n",
    "| 2022-03-03        | 1.0     |Lakshmi Holla  | Created lab using sqlite3          |\n",
    "\n",
    "## <h3 align=\"center\"> © IBM Corporation 2022. All rights reserved. <h3/>\n"
   ]
  }
 ],
 "metadata": {
  "kernelspec": {
   "display_name": "R",
   "language": "R",
   "name": "ir"
  },
  "language_info": {
   "codemirror_mode": "r",
   "file_extension": ".r",
   "mimetype": "text/x-r-source",
   "name": "R",
   "pygments_lexer": "r",
   "version": "3.6.1"
  }
 },
 "nbformat": 4,
 "nbformat_minor": 4
}
